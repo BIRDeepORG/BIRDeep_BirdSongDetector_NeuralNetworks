{
 "cells": [
  {
   "cell_type": "code",
   "execution_count": 1,
   "metadata": {},
   "outputs": [],
   "source": [
    "import os\n",
    "import pandas as pd\n",
    "import unittest"
   ]
  },
  {
   "cell_type": "code",
   "execution_count": 2,
   "metadata": {},
   "outputs": [],
   "source": [
    "# Define the paths to CSVs and TXTs\n",
    "PATH = \"../../../desarrollo/\"\n",
    "train_csv_path = PATH + 'Data/CSVs/train.csv'\n",
    "val_csv_path = PATH + 'Data/CSVs/validation.csv'\n",
    "test_csv_path = PATH + 'Data/CSVs/test.csv'\n",
    "\n",
    "train_txt_path = PATH + 'Data/TXTs/train.txt'\n",
    "val_txt_path = PATH + 'Data/TXTs/validation.txt'\n",
    "test_txt_path = PATH + 'Data/TXTs/test.txt'"
   ]
  },
  {
   "cell_type": "code",
   "execution_count": 3,
   "metadata": {},
   "outputs": [],
   "source": [
    "# Function to extract image paths from a CSV and save them to a TXT file\n",
    "def save_image_paths_to_txt(csv_path, txt_path):\n",
    "    df = pd.read_csv(csv_path)\n",
    "    paths = df['path'].tolist()\n",
    "    \n",
    "    with open(txt_path, 'w') as txt_file:\n",
    "        for path in paths:\n",
    "            txt_file.write(\"Data/Dataset/Images/\" + path.replace(\".WAV\", \".jpg\") + '\\n')\n",
    "\n",
    "# Save image paths to TXT files\n",
    "save_image_paths_to_txt(train_csv_path, train_txt_path)\n",
    "save_image_paths_to_txt(val_csv_path, val_txt_path)\n",
    "save_image_paths_to_txt(test_csv_path, test_txt_path)"
   ]
  }
 ],
 "metadata": {
  "kernelspec": {
   "display_name": "otherstuffystuff",
   "language": "python",
   "name": "python3"
  },
  "language_info": {
   "codemirror_mode": {
    "name": "ipython",
    "version": 3
   },
   "file_extension": ".py",
   "mimetype": "text/x-python",
   "name": "python",
   "nbconvert_exporter": "python",
   "pygments_lexer": "ipython3",
   "version": "3.11.7"
  },
  "orig_nbformat": 4
 },
 "nbformat": 4,
 "nbformat_minor": 2
}
