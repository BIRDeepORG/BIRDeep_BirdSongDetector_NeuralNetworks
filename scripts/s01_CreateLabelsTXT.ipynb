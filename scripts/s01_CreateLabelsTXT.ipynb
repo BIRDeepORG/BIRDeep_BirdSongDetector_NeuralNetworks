{
 "cells": [
  {
   "cell_type": "code",
   "execution_count": 1,
   "metadata": {},
   "outputs": [],
   "source": [
    "import os\n",
    "import pandas as pd\n",
    "import ast"
   ]
  },
  {
   "cell_type": "code",
   "execution_count": 2,
   "metadata": {},
   "outputs": [],
   "source": [
    "# Define the paths to images and labels folders\n",
    "PATH = \"../../../desarrollo/Data/\"\n",
    "\n",
    "images_dir = PATH + 'Dataset/Images'\n",
    "labels_dir = PATH + 'Dataset/Labels'\n",
    "csv_path = PATH + 'CSVs/dataset.csv'"
   ]
  },
  {
   "cell_type": "code",
   "execution_count": 3,
   "metadata": {},
   "outputs": [],
   "source": [
    "# Read the CSV file into a DataFrame\n",
    "df = pd.read_csv(csv_path)"
   ]
  },
  {
   "cell_type": "code",
   "execution_count": 20,
   "metadata": {},
   "outputs": [
    {
     "name": "stdout",
     "output_type": "stream",
     "text": [
      "Done!\n"
     ]
    }
   ],
   "source": [
    "# Create the folder structure in 'labels'\n",
    "for _, row in df.iterrows():\n",
    "    # Generate the path for the label folder corresponding to the image\n",
    "    label_folder = os.path.join(labels_dir, os.path.dirname(row['path']))\n",
    "    os.makedirs(label_folder, exist_ok=True)  # Create folder if it doesn't exist\n",
    "    \n",
    "    # Generate the name for the .txt file based on the image name\n",
    "    txt_file_path = os.path.join(labels_dir, row['path'].replace(\".WAV\", \".txt\"))\n",
    "    \n",
    "    # Convert the bounding box string to a list of lists\n",
    "    bounding_box = ast.literal_eval(row['bbox'])\n",
    "    \n",
    "    if bounding_box:      \n",
    "        # if txt file already exists add bounding box as new line, else, create a new one\n",
    "        if os.path.exists(txt_file_path):\n",
    "            with open(txt_file_path, 'a') as txt_file:\n",
    "                txt_file.write(\" \".join(str(item) for item in bounding_box) + '\\n')\n",
    "        else:\n",
    "            with open(txt_file_path, 'w') as txt_file:\n",
    "                txt_file.write(\" \".join(str(item) for item in bounding_box) + '\\n')\n",
    "\n",
    "print(\"Done!\")"
   ]
  },
  {
   "cell_type": "code",
   "execution_count": 27,
   "metadata": {},
   "outputs": [
    {
     "name": "stdout",
     "output_type": "stream",
     "text": [
      "Total .txt files in ../../../desarrollo/Data/Dataset/Labels and its subdirectories: 140\n",
      "Unique paths in the dataframe: 140\n"
     ]
    }
   ],
   "source": [
    "def count_txt_files(directory):\n",
    "    txt_file_count = 0\n",
    "    for root, dirs, files in os.walk(directory):\n",
    "        for file in files:\n",
    "            if file.endswith(\".txt\"):\n",
    "                txt_file_count += 1\n",
    "    return txt_file_count\n",
    "\n",
    "# Count txt files in labels_dir\n",
    "total_txt_files = count_txt_files(labels_dir)\n",
    "print(\"Total .txt files in\", labels_dir, \"and its subdirectories:\", total_txt_files)\n",
    "\n",
    "# Count unique paths of the dataframe\n",
    "unique_paths = df['path'].nunique()\n",
    "print(\"Unique paths in the dataframe:\", unique_paths)\n",
    "\n",
    "assert total_txt_files == unique_paths, \"The number of .txt files does not match the number of unique paths in the dataframe\""
   ]
  }
 ],
 "metadata": {
  "kernelspec": {
   "display_name": "otherstuffystuff",
   "language": "python",
   "name": "python3"
  },
  "language_info": {
   "codemirror_mode": {
    "name": "ipython",
    "version": 3
   },
   "file_extension": ".py",
   "mimetype": "text/x-python",
   "name": "python",
   "nbconvert_exporter": "python",
   "pygments_lexer": "ipython3",
   "version": "3.11.7"
  },
  "orig_nbformat": 4
 },
 "nbformat": 4,
 "nbformat_minor": 2
}
