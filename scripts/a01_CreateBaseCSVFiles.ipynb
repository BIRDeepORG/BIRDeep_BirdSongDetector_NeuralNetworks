{
 "cells": [
  {
   "cell_type": "markdown",
   "metadata": {},
   "source": [
    "# Create Base CSV Files\n",
    "\n",
    "This Jupyter Notebook is designed to convert TXT annotation files into CSV format for a bird song classification project. \n",
    "\n",
    "The annotations contain data related to the start, end, and species of bird songs within audio files. The goal is to create CSV files that store this information in a structured format.\n",
    "\n",
    "## Process Overview\n",
    "\n",
    "1. The notebook will recursively search for TXT annotation files within a specified dataset directory, including all its subdirectories.\n",
    "\n",
    "2. For each TXT file found, it will extract relevant information, including the audio file name, start time, end time, and bird species.\n",
    "\n",
    "3. The extracted data will be organized into a structured DataFrame.\n",
    "\n",
    "4. The data will be saved as a CSV file with a name matching the original TXT file in the \"Data/Annotations\" directory."
   ]
  },
  {
   "cell_type": "code",
   "execution_count": 4,
   "metadata": {},
   "outputs": [],
   "source": [
    "import os\n",
    "import pandas as pd"
   ]
  },
  {
   "cell_type": "code",
   "execution_count": 5,
   "metadata": {},
   "outputs": [],
   "source": [
    "ROOT_PATH = \"../\"\n",
    "\n",
    "# Path to the root folder containing the dataset\n",
    "dataset_path = ROOT_PATH + \"Dataset\"\n",
    "\n",
    "# Path to the folder where you want to save the CSV files\n",
    "output_path = ROOT_PATH + \"Data/Annotations\""
   ]
  },
  {
   "cell_type": "code",
   "execution_count": 6,
   "metadata": {},
   "outputs": [
    {
     "name": "stdout",
     "output_type": "stream",
     "text": [
      "Created CSV file: ../Data/Annotations\\AM01_20230510_Labels_without frequencies_mod.csv\n",
      "Created CSV file: ../Data/Annotations\\AM01_20230511_Labels_without frequencies_mod.csv\n",
      "Created CSV file: ../Data/Annotations\\AM01_20230512_Labels_without frequencies_mod.csv\n",
      "Created CSV file: ../Data/Annotations\\AM01_20230514_Labels_without frequencies_mod.csv\n",
      "Created CSV file: ../Data/Annotations\\AM01_20230515_Labels_without_frequencies_mod.csv\n",
      "Created CSV file: ../Data/Annotations\\AM16_20230303_mod.csv\n",
      "Created CSV file: ../Data/Annotations\\AM16_20230530_mod.csv\n",
      "Created CSV file: ../Data/Annotations\\AM04_20230530_Labels_without_frequencies_mod.csv\n",
      "Created CSV file: ../Data/Annotations\\AM04_20230531_Labels_without_frequencies_mod.csv\n",
      "Created CSV file: ../Data/Annotations\\AM04_20230601_Labels_without_frequencies_mod.csv\n"
     ]
    }
   ],
   "source": [
    "# Iterate through all subdirectories in the dataset path\n",
    "for root, dirs, files in os.walk(dataset_path):\n",
    "    for file in files:\n",
    "        if file.endswith(\".txt\"):\n",
    "            txt_file_path = os.path.join(root, file)\n",
    "            \n",
    "            # Read the TXT file\n",
    "            df = pd.read_csv(txt_file_path, sep='\\t')\n",
    "            \n",
    "            # Select the desired columns\n",
    "            df = df[['file', 'start', 'end', 'specie']]\n",
    "            \n",
    "            # Define the CSV file path in the Annotations folder\n",
    "            csv_file_name = file.replace('.txt', '.csv')\n",
    "            csv_file_path = os.path.join(output_path, csv_file_name)\n",
    "            \n",
    "            # Save the selected columns to the CSV file\n",
    "            df.to_csv(csv_file_path, index=False)\n",
    "            \n",
    "            print(f\"Created CSV file: {csv_file_path}\")\n"
   ]
  }
 ],
 "metadata": {
  "kernelspec": {
   "display_name": "BIRDeep",
   "language": "python",
   "name": "python3"
  },
  "language_info": {
   "codemirror_mode": {
    "name": "ipython",
    "version": 3
   },
   "file_extension": ".py",
   "mimetype": "text/x-python",
   "name": "python",
   "nbconvert_exporter": "python",
   "pygments_lexer": "ipython3",
   "version": "3.8.18"
  }
 },
 "nbformat": 4,
 "nbformat_minor": 2
}
