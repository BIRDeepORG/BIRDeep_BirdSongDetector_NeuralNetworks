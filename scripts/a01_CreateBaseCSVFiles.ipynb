{
 "cells": [
  {
   "cell_type": "markdown",
   "metadata": {},
   "source": [
    "# Create Base CSV Files\n",
    "\n",
    "This Jupyter Notebook is designed to convert TXT annotation files into CSV format for a bird song classification project. \n",
    "\n",
    "The annotations contain data related to the start, end, and species of bird songs within audio files. The goal is to create CSV files that store this information in a structured format.\n",
    "\n",
    "## Process Overview\n",
    "\n",
    "1. The notebook will recursively search for TXT annotation files within a specified dataset directory, including all its subdirectories.\n",
    "\n",
    "2. For each TXT file found, it will extract relevant information, including the audio file name, start time, end time, and bird species.\n",
    "\n",
    "3. The extracted data will be organized into a structured DataFrame.\n",
    "\n",
    "4. The data will be saved as a CSV file with a name matching the original TXT file in the \"Data/Annotations\" directory."
   ]
  },
  {
   "cell_type": "code",
   "execution_count": 2,
   "metadata": {},
   "outputs": [
    {
     "ename": "ModuleNotFoundError",
     "evalue": "No module named 'pandas'",
     "output_type": "error",
     "traceback": [
      "\u001b[1;31m---------------------------------------------------------------------------\u001b[0m",
      "\u001b[1;31mModuleNotFoundError\u001b[0m                       Traceback (most recent call last)",
      "\u001b[1;32me:\\BIRDeep_NeuralNetworks\\Scripts\\a01_CreateBaseCSVFiles.ipynb Cell 2\u001b[0m line \u001b[0;36m2\n\u001b[0;32m      <a href='vscode-notebook-cell:/e%3A/BIRDeep_NeuralNetworks/Scripts/a01_CreateBaseCSVFiles.ipynb#W3sZmlsZQ%3D%3D?line=0'>1</a>\u001b[0m \u001b[39mimport\u001b[39;00m \u001b[39mos\u001b[39;00m\n\u001b[1;32m----> <a href='vscode-notebook-cell:/e%3A/BIRDeep_NeuralNetworks/Scripts/a01_CreateBaseCSVFiles.ipynb#W3sZmlsZQ%3D%3D?line=1'>2</a>\u001b[0m \u001b[39mimport\u001b[39;00m \u001b[39mpandas\u001b[39;00m \u001b[39mas\u001b[39;00m \u001b[39mpd\u001b[39;00m\n",
      "\u001b[1;31mModuleNotFoundError\u001b[0m: No module named 'pandas'"
     ]
    }
   ],
   "source": [
    "import os\n",
    "import pandas as pd"
   ]
  },
  {
   "cell_type": "code",
   "execution_count": 1,
   "metadata": {},
   "outputs": [
    {
     "ename": "ModuleNotFoundError",
     "evalue": "No module named 'pandas'",
     "output_type": "error",
     "traceback": [
      "\u001b[1;31m---------------------------------------------------------------------------\u001b[0m",
      "\u001b[1;31mModuleNotFoundError\u001b[0m                       Traceback (most recent call last)",
      "\u001b[1;32me:\\BIRDeep_NeuralNetworks\\Scripts\\a01_CreateBaseCSVFiles.ipynb Cell 2\u001b[0m line \u001b[0;36m2\n\u001b[0;32m      <a href='vscode-notebook-cell:/e%3A/BIRDeep_NeuralNetworks/Scripts/a01_CreateBaseCSVFiles.ipynb#W0sZmlsZQ%3D%3D?line=0'>1</a>\u001b[0m \u001b[39mimport\u001b[39;00m \u001b[39mos\u001b[39;00m\n\u001b[1;32m----> <a href='vscode-notebook-cell:/e%3A/BIRDeep_NeuralNetworks/Scripts/a01_CreateBaseCSVFiles.ipynb#W0sZmlsZQ%3D%3D?line=1'>2</a>\u001b[0m \u001b[39mimport\u001b[39;00m \u001b[39mpandas\u001b[39;00m \u001b[39mas\u001b[39;00m \u001b[39mpd\u001b[39;00m\n\u001b[0;32m      <a href='vscode-notebook-cell:/e%3A/BIRDeep_NeuralNetworks/Scripts/a01_CreateBaseCSVFiles.ipynb#W0sZmlsZQ%3D%3D?line=3'>4</a>\u001b[0m \u001b[39m# Path to the root folder containing the dataset\u001b[39;00m\n\u001b[0;32m      <a href='vscode-notebook-cell:/e%3A/BIRDeep_NeuralNetworks/Scripts/a01_CreateBaseCSVFiles.ipynb#W0sZmlsZQ%3D%3D?line=4'>5</a>\u001b[0m dataset_path \u001b[39m=\u001b[39m \u001b[39m\"\u001b[39m\u001b[39mDataset\u001b[39m\u001b[39m\"\u001b[39m\n",
      "\u001b[1;31mModuleNotFoundError\u001b[0m: No module named 'pandas'"
     ]
    }
   ],
   "source": [
    "# Path to the root folder containing the dataset\n",
    "dataset_path = \"Dataset\"\n",
    "\n",
    "# Path to the folder where you want to save the CSV files\n",
    "output_path = \"Data/Annotations\"\n",
    "\n",
    "# Iterate through all subdirectories in the dataset path\n",
    "for root, dirs, files in os.walk(dataset_path):\n",
    "    for file in files:\n",
    "        if file.endswith(\".txt\"):\n",
    "            txt_file_path = os.path.join(root, file)\n",
    "            \n",
    "            # Read the TXT file\n",
    "            df = pd.read_csv(txt_file_path, sep='\\t')\n",
    "            \n",
    "            # Select the desired columns\n",
    "            df = df[['file', 'start', 'end', 'specie']]\n",
    "            \n",
    "            # Define the CSV file path in the Annotations folder\n",
    "            csv_file_name = file.replace('.txt', '.csv')\n",
    "            csv_file_path = os.path.join(output_path, csv_file_name)\n",
    "            \n",
    "            # Save the selected columns to the CSV file\n",
    "            df.to_csv(csv_file_path, index=False)\n",
    "            \n",
    "            print(f\"Created CSV file: {csv_file_path}\")\n"
   ]
  }
 ],
 "metadata": {
  "kernelspec": {
   "display_name": "BIRDeep",
   "language": "python",
   "name": "python3"
  },
  "language_info": {
   "codemirror_mode": {
    "name": "ipython",
    "version": 3
   },
   "file_extension": ".py",
   "mimetype": "text/x-python",
   "name": "python",
   "nbconvert_exporter": "python",
   "pygments_lexer": "ipython3",
   "version": "3.8.18"
  }
 },
 "nbformat": 4,
 "nbformat_minor": 2
}
