{
 "cells": [
  {
   "cell_type": "markdown",
   "metadata": {},
   "source": [
    "# Merge CSV Files\n",
    "\n",
    "This Jupyter Notebook is designed to add more annotations to  CSV base files.\n",
    "\n",
    "The new annotations contain data related to the date and time of bird songs recordings. The goal is to create new CSV files that store this information in a structured format.\n",
    "\n",
    "## Process Overview\n",
    "\n",
    "1. The notebook will recursively search for CSV annotation files within a specified data directory.\n",
    "\n",
    "2. For each CSV file found, it will extract relevant information, including the audio file name, start time, end time, and bird species.\n",
    "\n",
    "3. The extracted data will be organized into a structured DataFrame.\n",
    "\n",
    "4. New interesing data will be created and added to each audio file as date and time of the recording.\n",
    "\n",
    "5. The data will be saved as a CSV file with a name matching the original TXT file in the \"Data/Annotations\" directory."
   ]
  },
  {
   "cell_type": "code",
   "execution_count": 1,
   "metadata": {},
   "outputs": [],
   "source": [
    "import os\n",
    "import pandas as pd"
   ]
  },
  {
   "cell_type": "code",
   "execution_count": 2,
   "metadata": {},
   "outputs": [],
   "source": [
    "ROOT_PATH = \"../\"\n",
    "\n",
    "# Load the CSV file\n",
    "input_folder = ROOT_PATH + \"Data/Annotations/\"\n",
    "\n",
    "# Path to the folder where you want to save the CSV files\n",
    "output_file = ROOT_PATH + \"Data/Annotations/\" + \"audio_annotations.csv\""
   ]
  },
  {
   "cell_type": "code",
   "execution_count": 4,
   "metadata": {},
   "outputs": [],
   "source": [
    "# Get a list of CSV files in the input folder\n",
    "csv_files = [file for file in os.listdir(input_folder) if file.endswith(\".csv\")]\n",
    "\n",
    "# Initialize an empty list to store DataFrames\n",
    "dataframes = []\n",
    "\n",
    "# Iterate through each CSV file, read its data, and append it to the list\n",
    "for csv_file in csv_files:\n",
    "    file_path = os.path.join(input_folder, csv_file)\n",
    "    data = pd.read_csv(file_path)\n",
    "    dataframes.append(data)\n",
    "\n",
    "# Concatenate the DataFrames into a single DataFrame\n",
    "combined_df = pd.concat(dataframes, ignore_index=True)\n",
    "\n",
    "# Save the combined DataFrame to a single CSV file\n",
    "combined_df.to_csv(output_file, index=False)\n",
    "\n",
    "# Ensure the row count in the output CSV matches the sum of row counts in input CSVs\n",
    "row_count_input = sum([pd.read_csv(os.path.join(input_folder, file)).shape[0] for file in csv_files])\n",
    "row_count_output = combined_df.shape[0]\n",
    "\n",
    "# Perform a safety check\n",
    "assert row_count_output == row_count_input, \"Row count mismatch between input and output CSVs.\"\n",
    "\n",
    "# Remove the input CSV files\n",
    "for csv_file in csv_files:\n",
    "    file_path = os.path.join(input_folder, csv_file)\n",
    "    os.remove(file_path)"
   ]
  }
 ],
 "metadata": {
  "kernelspec": {
   "display_name": "BIRDeep",
   "language": "python",
   "name": "python3"
  },
  "language_info": {
   "codemirror_mode": {
    "name": "ipython",
    "version": 3
   },
   "file_extension": ".py",
   "mimetype": "text/x-python",
   "name": "python",
   "nbconvert_exporter": "python",
   "pygments_lexer": "ipython3",
   "version": "3.8.18"
  }
 },
 "nbformat": 4,
 "nbformat_minor": 2
}
