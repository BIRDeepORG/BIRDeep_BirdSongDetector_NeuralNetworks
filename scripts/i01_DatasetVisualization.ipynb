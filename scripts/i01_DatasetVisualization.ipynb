{
 "cells": [
  {
   "cell_type": "markdown",
   "metadata": {},
   "source": [
    "## Data Analysis for Audio Annotations\n",
    "\n",
    "This Jupyter Notebook performs a data analysis on the `audio_annotations.csv` dataset. The dataset includes information about audio files, recorders, dates, times, audio durations, start and end times, and species.\n",
    "\n",
    "### Visualizations Included\n",
    "\n",
    "1. **Number of Audio Files by Recorder**: A bar chart showing the distribution of audio files among different recorders.\n",
    "\n",
    "2. **Frequency of Species**: A bar chart displaying the frequency of each species in the dataset.\n",
    "\n",
    "3. **Distribution of Audio Durations**: A histogram illustrating the distribution of audio durations.\n",
    "\n",
    "4. **Time of Recordings**: A line chart showing the number of audio files recorded at different times of the day.\n",
    "\n",
    "5. **Date of Recordings**: A line chart indicating the number of audio files recorded on different dates."
   ]
  },
  {
   "cell_type": "code",
   "execution_count": 2,
   "metadata": {},
   "outputs": [
    {
     "ename": "ModuleNotFoundError",
     "evalue": "No module named 'matplotlib'",
     "output_type": "error",
     "traceback": [
      "\u001b[1;31m---------------------------------------------------------------------------\u001b[0m",
      "\u001b[1;31mModuleNotFoundError\u001b[0m                       Traceback (most recent call last)",
      "\u001b[1;32me:\\BIRDeep_NeuralNetworks\\Scripts\\i01_DatasetVisualization.ipynb Cell 2\u001b[0m line \u001b[0;36m2\n\u001b[0;32m      <a href='vscode-notebook-cell:/e%3A/BIRDeep_NeuralNetworks/Scripts/i01_DatasetVisualization.ipynb#W0sZmlsZQ%3D%3D?line=0'>1</a>\u001b[0m \u001b[39mimport\u001b[39;00m \u001b[39mpandas\u001b[39;00m \u001b[39mas\u001b[39;00m \u001b[39mpd\u001b[39;00m\n\u001b[1;32m----> <a href='vscode-notebook-cell:/e%3A/BIRDeep_NeuralNetworks/Scripts/i01_DatasetVisualization.ipynb#W0sZmlsZQ%3D%3D?line=1'>2</a>\u001b[0m \u001b[39mimport\u001b[39;00m \u001b[39mmatplotlib\u001b[39;00m\u001b[39m.\u001b[39;00m\u001b[39mpyplot\u001b[39;00m \u001b[39mas\u001b[39;00m \u001b[39mplt\u001b[39;00m\n",
      "\u001b[1;31mModuleNotFoundError\u001b[0m: No module named 'matplotlib'"
     ]
    }
   ],
   "source": [
    "import pandas as pd\n",
    "import matplotlib.pyplot as plt"
   ]
  },
  {
   "cell_type": "code",
   "execution_count": null,
   "metadata": {},
   "outputs": [],
   "source": [
    "ROOT_PATH = \"../\"\n",
    "input_file = ROOT_PATH + \"Data/Annotations/\" + \"audio_annotations.csv\""
   ]
  },
  {
   "cell_type": "code",
   "execution_count": null,
   "metadata": {},
   "outputs": [],
   "source": [
    "# Read the CSV file\n",
    "df = pd.read_csv(input_file)"
   ]
  },
  {
   "cell_type": "markdown",
   "metadata": {},
   "source": [
    "## Number of Audio Files by Recorder"
   ]
  },
  {
   "cell_type": "code",
   "execution_count": null,
   "metadata": {},
   "outputs": [],
   "source": [
    "# Count the number of audio files by recorder\n",
    "recorder_counts = df['recorder'].value_counts()\n",
    "\n",
    "# Create a bar chart\n",
    "plt.figure(figsize=(10, 6))\n",
    "plt.bar(recorder_counts.index, recorder_counts.values)\n",
    "plt.xlabel('Recorder')\n",
    "plt.ylabel('Number of Audio Files')\n",
    "plt.title('Number of Audio Files by Recorder')\n",
    "plt.xticks(rotation=45)\n",
    "plt.show()"
   ]
  },
  {
   "cell_type": "markdown",
   "metadata": {},
   "source": [
    "## Frequency of species"
   ]
  },
  {
   "cell_type": "code",
   "execution_count": null,
   "metadata": {},
   "outputs": [],
   "source": [
    "# Count the frequency of each species\n",
    "species_counts = df['specie'].value_counts()\n",
    "\n",
    "# Create a bar chart\n",
    "plt.figure(figsize=(12, 6))\n",
    "plt.bar(species_counts.index, species_counts.values)\n",
    "plt.xlabel('Species')\n",
    "plt.ylabel('Frequency')\n",
    "plt.title('Frequency of Species')\n",
    "plt.xticks(rotation=90)\n",
    "plt.show()"
   ]
  },
  {
   "cell_type": "markdown",
   "metadata": {},
   "source": [
    "## Distribution of Audio Duration"
   ]
  },
  {
   "cell_type": "code",
   "execution_count": null,
   "metadata": {},
   "outputs": [],
   "source": [
    "# Plot a histogram of audio durations\n",
    "plt.figure(figsize=(10, 6))\n",
    "plt.hist(df['audio_duration'], bins=20, edgecolor='k')\n",
    "plt.xlabel('Audio Duration (HH:MM:SS)')\n",
    "plt.ylabel('Number of Audio Files')\n",
    "plt.title('Distribution of Audio Durations')\n",
    "plt.xticks(rotation=45)\n",
    "plt.show()"
   ]
  },
  {
   "cell_type": "markdown",
   "metadata": {},
   "source": [
    "## Time of recordings"
   ]
  },
  {
   "cell_type": "code",
   "execution_count": null,
   "metadata": {},
   "outputs": [],
   "source": [
    "# Convert 'time' to a datetime object\n",
    "df['time'] = pd.to_datetime(df['time'], format='%H:%M:%S')\n",
    "\n",
    "# Extract the hour of the day\n",
    "df['hour'] = df['time'].dt.hour\n",
    "\n",
    "# Count the number of audio files recorded at each hour\n",
    "time_counts = df['hour'].value_counts().sort_index()\n",
    "\n",
    "# Create a line chart\n",
    "plt.figure(figsize=(10, 6))\n",
    "plt.plot(time_counts.index, time_counts.values, marker='o')\n",
    "plt.xlabel('Hour of the Day')\n",
    "plt.ylabel('Number of Audio Files')\n",
    "plt.title('Time of Recordings')\n",
    "plt.grid(True)\n",
    "plt.show()"
   ]
  },
  {
   "cell_type": "markdown",
   "metadata": {},
   "source": [
    "## Date of recordings"
   ]
  },
  {
   "cell_type": "code",
   "execution_count": null,
   "metadata": {},
   "outputs": [],
   "source": [
    "# Convert 'date' to a datetime object\n",
    "df['date'] = pd.to_datetime(df['date'], format='%Y/%m/%d')\n",
    "\n",
    "# Extract the date without time\n",
    "df['date_only'] = df['date'].dt.date\n",
    "\n",
    "# Count the number of audio files recorded on each date\n",
    "date_counts = df['date_only'].value_counts().sort_index()\n",
    "\n",
    "# Create a line chart\n",
    "plt.figure(figsize=(12, 6))\n",
    "plt.plot(date_counts.index, date_counts.values, marker='o')\n",
    "plt.xlabel('Date')\n",
    "plt.ylabel('Number of Audio Files')\n",
    "plt.title('Date of Recordings')\n",
    "plt.grid(True)\n",
    "plt.xticks(rotation=45)\n",
    "plt.show()\n"
   ]
  }
 ],
 "metadata": {
  "kernelspec": {
   "display_name": "BIRDeep",
   "language": "python",
   "name": "python3"
  },
  "language_info": {
   "codemirror_mode": {
    "name": "ipython",
    "version": 3
   },
   "file_extension": ".py",
   "mimetype": "text/x-python",
   "name": "python",
   "nbconvert_exporter": "python",
   "pygments_lexer": "ipython3",
   "version": "3.8.18"
  }
 },
 "nbformat": 4,
 "nbformat_minor": 2
}
