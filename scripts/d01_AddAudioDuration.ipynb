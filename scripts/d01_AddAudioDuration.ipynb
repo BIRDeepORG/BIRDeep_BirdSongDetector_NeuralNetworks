{
 "cells": [
  {
   "cell_type": "markdown",
   "metadata": {},
   "source": [
    "## Calculating Audio Durations and Updating CSV\n",
    "\n",
    "This Jupyter Notebook calculates the durations of audio files and updates a CSV file. The CSV file, named `audio_annotations.csv`, is expected to have information about audio files, including paths.\n",
    "\n",
    "1. **Read the CSV File**: The code reads the input CSV file, which is assumed to be structured with columns for paths and other attributes.\n",
    "\n",
    "2. **Sort by Path**: The audio files are sorted by their paths to group identical audio files together for efficient duration calculations.\n",
    "\n",
    "3. **Calculate Durations**: It iterates through the sorted DataFrame and calculates the duration for each audio file using the `pydub` library.\n",
    "\n",
    "4. **Update the DataFrame**: The code updates the DataFrame with the calculated audio durations. If an audio file shares a path with a previous one, it reuses the previously calculated duration to save computation time.\n",
    "\n",
    "5. **Rearrange Columns**: The columns are rearranged to place the new 'audio_duration' column next to the 'time' column.\n",
    "\n",
    "6. **Save to New CSV**: The updated DataFrame is saved as a new CSV file.\n"
   ]
  },
  {
   "cell_type": "code",
   "execution_count": 1,
   "metadata": {},
   "outputs": [
    {
     "name": "stderr",
     "output_type": "stream",
     "text": [
      "c:\\Users\\albam\\anaconda3\\envs\\BIRDeep\\lib\\site-packages\\pydub\\utils.py:170: RuntimeWarning: Couldn't find ffmpeg or avconv - defaulting to ffmpeg, but may not work\n",
      "  warn(\"Couldn't find ffmpeg or avconv - defaulting to ffmpeg, but may not work\", RuntimeWarning)\n"
     ]
    }
   ],
   "source": [
    "import pandas as pd\n",
    "from pydub import AudioSegment"
   ]
  },
  {
   "cell_type": "code",
   "execution_count": 2,
   "metadata": {},
   "outputs": [],
   "source": [
    "ROOT_PATH = \"../\"\n",
    "\n",
    "DATASET_FOLDER = ROOT_PATH + \"Dataset/\"\n",
    "\n",
    "# Load the CSV file\n",
    "input_file = ROOT_PATH + \"Data/Annotations/\" + \"audio_annotations.csv\"\n",
    "df = pd.read_csv(input_file)\n",
    "\n",
    "# Path to the folder where you want to save the CSV files\n",
    "output_file = input_file"
   ]
  },
  {
   "cell_type": "code",
   "execution_count": 3,
   "metadata": {},
   "outputs": [],
   "source": [
    "# Leer el archivo CSV\n",
    "df = pd.read_csv(input_file)\n",
    "\n",
    "# Sort the DataFrame by 'path'\n",
    "df = df.sort_values(by='path')\n",
    "\n",
    "# Create a new column to store the audio duration in HH:MM:SS format\n",
    "df['audio_duration'] = \"\"\n",
    "\n",
    "# Initialize variables to track the previous path and its audio duration\n",
    "prev_path = \"\"\n",
    "prev_duration = None\n",
    "\n",
    "# Iterate through the sorted DataFrame and calculate the duration of each audio\n",
    "for index, row in df.iterrows():\n",
    "    path = row['path']\n",
    "    if path != prev_path:\n",
    "        # This is a new audio file, calculate its duration\n",
    "        audio = AudioSegment.from_file(DATASET_FOLDER + path, format=\"wav\")\n",
    "        duration_seconds = len(audio) / 1000  # Convert to seconds\n",
    "        duration_time = pd.to_datetime(duration_seconds, unit='s').strftime('%H:%M:%S')\n",
    "        df.at[index, 'audio_duration'] = duration_time\n",
    "        prev_duration = duration_time\n",
    "    else:\n",
    "        # This audio file has the same path as the previous one, use the previous duration\n",
    "        df.at[index, 'audio_duration'] = prev_duration\n",
    "\n",
    "    prev_path = path\n",
    "\n",
    "# Rearrange the columns to place 'audio_duration' after 'time'\n",
    "columns = ['path', 'recorder', 'date', 'time', 'audio_duration', 'start_time', 'end_time', 'specie']\n",
    "df = df[columns]\n",
    "\n",
    "# Save the updated DataFrame to a new CSV file\n",
    "df.to_csv(output_file, index=False)"
   ]
  }
 ],
 "metadata": {
  "kernelspec": {
   "display_name": "BIRDeep",
   "language": "python",
   "name": "python3"
  },
  "language_info": {
   "codemirror_mode": {
    "name": "ipython",
    "version": 3
   },
   "file_extension": ".py",
   "mimetype": "text/x-python",
   "name": "python",
   "nbconvert_exporter": "python",
   "pygments_lexer": "ipython3",
   "version": "3.8.18"
  }
 },
 "nbformat": 4,
 "nbformat_minor": 2
}
