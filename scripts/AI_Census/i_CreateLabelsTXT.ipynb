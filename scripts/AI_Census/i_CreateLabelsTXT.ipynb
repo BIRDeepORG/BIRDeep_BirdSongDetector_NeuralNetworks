{
 "cells": [
  {
   "cell_type": "code",
   "execution_count": 28,
   "metadata": {},
   "outputs": [],
   "source": [
    "import os\n",
    "import pandas as pd\n",
    "import ast"
   ]
  },
  {
   "cell_type": "code",
   "execution_count": 29,
   "metadata": {},
   "outputs": [],
   "source": [
    "# Define the paths to images and labels folders\n",
    "PATH = \"../\"\n",
    "\n",
    "images_dir = PATH + 'Dataset/images'\n",
    "labels_dir = PATH + 'Dataset/labels'\n",
    "csv_path = PATH + 'Data/CSVs/dataset_caltech_yolo.csv'"
   ]
  },
  {
   "cell_type": "code",
   "execution_count": 30,
   "metadata": {},
   "outputs": [],
   "source": [
    "# Read the CSV file into a DataFrame\n",
    "df = pd.read_csv(csv_path)"
   ]
  },
  {
   "cell_type": "code",
   "execution_count": 13,
   "metadata": {},
   "outputs": [],
   "source": [
    "# Create the folder structure in 'labels'\n",
    "for _, row in df.iterrows():\n",
    "    # Generate the path for the label folder corresponding to the image\n",
    "    label_path = os.path.join(labels_dir, os.path.dirname(row['path']))\n",
    "    os.makedirs(label_path, exist_ok=True)\n",
    "    \n",
    "    # Convert the bounding box string to a list of lists\n",
    "    bounding_boxes = ast.literal_eval(row['bounding_boxes'])\n",
    "    \n",
    "    if bounding_boxes:\n",
    "        # Generate the name for the .txt file based on the image name\n",
    "        txt_filename = os.path.splitext(os.path.basename(row['path']))[0] + '.txt'\n",
    "        txt_path = os.path.join(label_path, txt_filename)\n",
    "        \n",
    "        # Write each bounding box as a separate line in the .txt file\n",
    "        with open(txt_path, 'w') as txt_file:\n",
    "            for bbox in bounding_boxes:\n",
    "                txt_file.write(\" \".join(str(item) for item in bbox) + '\\n')\n"
   ]
  },
  {
   "cell_type": "markdown",
   "metadata": {},
   "source": [
    "# Test (by ChatGPT)"
   ]
  },
  {
   "cell_type": "code",
   "execution_count": 42,
   "metadata": {},
   "outputs": [
    {
     "name": "stdout",
     "output_type": "stream",
     "text": [
      "Tests completed. Total: 25292, Successful: 25292, Failed: 0\n"
     ]
    }
   ],
   "source": [
    "# Initialize counters for successful and failed tests\n",
    "success_count = 0\n",
    "fail_count = 0\n",
    "\n",
    "# Iterate through each row in the CSV and perform tests\n",
    "for _, row in df.iterrows():\n",
    "    image_path = os.path.join(images_dir, row['path'])\n",
    "    label_path = os.path.join(labels_dir, os.path.dirname(row['path']))\n",
    "    txt_filename = os.path.splitext(os.path.basename(row['path']))[0] + '.txt'\n",
    "    txt_path = os.path.join(label_path, txt_filename)\n",
    "    \n",
    "    # Test: Check if image exists in the images directory\n",
    "    if not os.path.exists(image_path):\n",
    "        print(f\"Image not found: {image_path}\")\n",
    "        fail_count += 1\n",
    "    \n",
    "    # Test: Check if label directory exists\n",
    "    if not os.path.exists(label_path):\n",
    "        print(f\"Label directory not found: {label_path}\")\n",
    "        fail_count += 1\n",
    "    else:\n",
    "        # Test: Check if image category is not 'empty'\n",
    "        if row['class'] != 'empty':\n",
    "            # Test: Check if TXT file exists\n",
    "            if os.path.exists(txt_path):\n",
    "                with open(txt_path, 'r') as txt_file:\n",
    "                    expected_boxes = row['bounding_boxes'].strip(\"[]\").split(\"],\")\n",
    "                    expected_boxes = [box.strip().replace('[', '').replace(']', '').replace(\",\",\"\") for box in expected_boxes]\n",
    "                    actual_boxes = [line.strip() for line in txt_file.readlines()]\n",
    "                    \n",
    "                    if expected_boxes == actual_boxes:\n",
    "                        success_count += 1\n",
    "                    else:\n",
    "                        print(f\"Bounding boxes mismatch for: {txt_path}\")\n",
    "                        fail_count += 1\n",
    "            else:\n",
    "                print(f\"TXT file not found: {txt_path}\")\n",
    "                fail_count += 1\n",
    "        else:\n",
    "            success_count+=1\n",
    "\n",
    "# Print test results\n",
    "print(f\"Tests completed. Total: {success_count + fail_count}, Successful: {success_count}, Failed: {fail_count}\")"
   ]
  }
 ],
 "metadata": {
  "kernelspec": {
   "display_name": "otherstuffystuff",
   "language": "python",
   "name": "python3"
  },
  "language_info": {
   "codemirror_mode": {
    "name": "ipython",
    "version": 3
   },
   "file_extension": ".py",
   "mimetype": "text/x-python",
   "name": "python",
   "nbconvert_exporter": "python",
   "pygments_lexer": "ipython3",
   "version": "3.8.17"
  },
  "orig_nbformat": 4
 },
 "nbformat": 4,
 "nbformat_minor": 2
}
