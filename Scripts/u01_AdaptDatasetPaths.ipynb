{
 "cells": [
  {
   "cell_type": "code",
   "execution_count": 1,
   "metadata": {},
   "outputs": [],
   "source": [
    "import os\n",
    "import pandas as pd"
   ]
  },
  {
   "cell_type": "code",
   "execution_count": 2,
   "metadata": {},
   "outputs": [],
   "source": [
    "# Define the paths to CSVs and TXTs\n",
    "PATH = \"../../../desarrollo/\"\n",
    "\n",
    "train_txt_path = PATH + 'Data/TXTs/train.txt'\n",
    "val_txt_path = PATH + 'Data/TXTs/validation.txt'\n",
    "test_txt_path = PATH + 'Data/TXTs/test.txt'"
   ]
  },
  {
   "cell_type": "code",
   "execution_count": 3,
   "metadata": {},
   "outputs": [
    {
     "data": {
      "text/plain": [
       "0"
      ]
     },
     "execution_count": 3,
     "metadata": {},
     "output_type": "execute_result"
    }
   ],
   "source": [
    "# Copy TXTs and save them as copy\n",
    "train_txt_copy_path = PATH + 'Data/TXTs/train_copy.txt'\n",
    "val_txt_copy_path = PATH + 'Data/TXTs/validation_copy.txt'\n",
    "test_txt_copy_path = PATH + 'Data/TXTs/test_copy.txt'\n",
    "\n",
    "# save the copy of the txts\n",
    "os.system(f\"cp {train_txt_path} {train_txt_copy_path}\")\n",
    "os.system(f\"cp {val_txt_path} {val_txt_copy_path}\")\n",
    "os.system(f\"cp {test_txt_path} {test_txt_copy_path}\")"
   ]
  },
  {
   "cell_type": "code",
   "execution_count": 6,
   "metadata": {},
   "outputs": [
    {
     "data": {
      "text/plain": [
       "0"
      ]
     },
     "execution_count": 6,
     "metadata": {},
     "output_type": "execute_result"
    }
   ],
   "source": [
    "'''# Rewrite TXT with copies\n",
    "os.system(f\"cp {train_txt_copy_path} {train_txt_path}\")\n",
    "os.system(f\"cp {val_txt_copy_path} {val_txt_path}\")\n",
    "os.system(f\"cp {test_txt_copy_path} {test_txt_path}\")'''"
   ]
  },
  {
   "cell_type": "code",
   "execution_count": 4,
   "metadata": {},
   "outputs": [],
   "source": [
    "# Add to each line the PATH at the beginning\n",
    "def add_path_to_txt(txt_path, PATH):\n",
    "    with open(txt_path, 'r') as file:\n",
    "        lines = file.readlines()\n",
    "    with open(txt_path, 'w') as file:\n",
    "        for line in lines:\n",
    "            file.write(PATH + line)\n",
    "\n",
    "add_path_to_txt(train_txt_path, \"../../desarrollo/\")\n",
    "add_path_to_txt(val_txt_path, \"../../desarrollo/\")\n",
    "add_path_to_txt(test_txt_path, \"../../desarrollo/\")"
   ]
  },
  {
   "cell_type": "code",
   "execution_count": 5,
   "metadata": {},
   "outputs": [],
   "source": [
    "# Change \"Images\" to \"images\" for each path\n",
    "def change_images_to_lowercase(txt_path):\n",
    "    with open(txt_path, 'r') as file:\n",
    "        lines = file.readlines()\n",
    "    with open(txt_path, 'w') as file:\n",
    "        for line in lines:\n",
    "            file.write(line.replace(\"Images\", \"images\"))\n",
    "\n",
    "change_images_to_lowercase(train_txt_path)\n",
    "change_images_to_lowercase(val_txt_path)\n",
    "change_images_to_lowercase(test_txt_path)"
   ]
  },
  {
   "cell_type": "code",
   "execution_count": null,
   "metadata": {},
   "outputs": [],
   "source": [
    "# Rename folder Images and labels\n",
    "!mv ../../../desarrollo/Data/Dataset/Images ../../../desarrollo/Data/Dataset/images\n",
    "!mv ../../../desarrollo/Data/Dataset/Labels ../../../desarrollo/Data/Dataset/labels"
   ]
  }
 ],
 "metadata": {
  "kernelspec": {
   "display_name": "otherstuffystuff",
   "language": "python",
   "name": "python3"
  },
  "language_info": {
   "codemirror_mode": {
    "name": "ipython",
    "version": 3
   },
   "file_extension": ".py",
   "mimetype": "text/x-python",
   "name": "python",
   "nbconvert_exporter": "python",
   "pygments_lexer": "ipython3",
   "version": "3.11.7"
  },
  "orig_nbformat": 4
 },
 "nbformat": 4,
 "nbformat_minor": 2
}
