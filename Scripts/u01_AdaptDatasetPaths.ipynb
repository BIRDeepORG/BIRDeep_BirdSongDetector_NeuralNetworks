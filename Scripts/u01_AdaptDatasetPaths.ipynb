{
 "cells": [
  {
   "cell_type": "code",
   "execution_count": 7,
   "metadata": {},
   "outputs": [],
   "source": [
    "import os\n",
    "import pandas as pd"
   ]
  },
  {
   "cell_type": "code",
   "execution_count": 6,
   "metadata": {},
   "outputs": [],
   "source": [
    "# Define the paths to CSVs and TXTs\n",
    "PATH = \"../../../desarrollo/\"\n",
    "\n",
    "train_txt_path = PATH + 'Data/TXTs/train.txt'\n",
    "val_txt_path = PATH + 'Data/TXTs/validation.txt'\n",
    "test_txt_path = PATH + 'Data/TXTs/test.txt'"
   ]
  },
  {
   "cell_type": "code",
   "execution_count": 8,
   "metadata": {},
   "outputs": [],
   "source": [
    "# Add to each line the PATH at the beginning\n",
    "def add_path_to_txt(txt_path, PATH):\n",
    "    with open(txt_path, 'r') as file:\n",
    "        lines = file.readlines()\n",
    "    with open(txt_path, 'w') as file:\n",
    "        for line in lines:\n",
    "            file.write(PATH + line)\n",
    "\n",
    "add_path_to_txt(train_txt_path, \"../../desarrollo/\")\n",
    "add_path_to_txt(val_txt_path, \"../../desarrollo/\")\n",
    "add_path_to_txt(test_txt_path, \"../../desarrollo/\")"
   ]
  },
  {
   "cell_type": "code",
   "execution_count": null,
   "metadata": {},
   "outputs": [],
   "source": [
    "# Rename folder Images and labels\n",
    "# !mv ../../../desarrollo/Data/Dataset/Images ../../../desarrollo/Data/Dataset/images\n",
    "!mv ../../../desarrollo/Data/Dataset/Labels ../../../desarrollo/Data/Dataset/labels"
   ]
  }
 ],
 "metadata": {
  "kernelspec": {
   "display_name": "otherstuffystuff",
   "language": "python",
   "name": "python3"
  },
  "language_info": {
   "codemirror_mode": {
    "name": "ipython",
    "version": 3
   },
   "file_extension": ".py",
   "mimetype": "text/x-python",
   "name": "python",
   "nbconvert_exporter": "python",
   "pygments_lexer": "ipython3",
   "version": "3.11.7"
  },
  "orig_nbformat": 4
 },
 "nbformat": 4,
 "nbformat_minor": 2
}
