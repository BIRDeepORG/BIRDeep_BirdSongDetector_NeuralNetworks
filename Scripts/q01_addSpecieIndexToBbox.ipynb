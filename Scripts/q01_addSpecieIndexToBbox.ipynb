{
 "cells": [
  {
   "cell_type": "markdown",
   "metadata": {},
   "source": [
    "# Add Species Index to Bounding Box Data\n",
    "\n",
    "This Jupyter Notebook reads a CSV file containing annotations of audio recordings of different species of birds. It then adds the species index as the first element in the bounding box data for each annotation. The species index is obtained from a predefined mapping of species to indices.\n",
    "\n",
    "## How to Use\n",
    "\n",
    "1. **Input CSV File**: Provide the path to the CSV file containing the annotations.\n",
    "2. **Output CSV File**: Specify the name of the output CSV file where the modified annotations will be saved.\n",
    "3. **Running the Notebook**: Execute each cell in order by clicking on the cell and pressing Shift + Enter.\n",
    "\n",
    "## Dependencies\n",
    "\n",
    "- pandas: This library is used to read and manipulate the CSV data."
   ]
  },
  {
   "cell_type": "code",
   "execution_count": 1,
   "metadata": {},
   "outputs": [],
   "source": [
    "import pandas as pd"
   ]
  },
  {
   "cell_type": "code",
   "execution_count": 4,
   "metadata": {},
   "outputs": [],
   "source": [
    "ROOT_PATH = \"../../../desarrollo/Data/Dataset/CSVs/\"\n",
    "\n",
    "input_file = ROOT_PATH + \"dataset.csv\""
   ]
  },
  {
   "cell_type": "code",
   "execution_count": 5,
   "metadata": {},
   "outputs": [],
   "source": [
    "# Read the CSV file\n",
    "df = pd.read_csv(input_file)"
   ]
  },
  {
   "cell_type": "code",
   "execution_count": 6,
   "metadata": {},
   "outputs": [],
   "source": [
    "# Define a dictionary mapping species to index\n",
    "species_index = {\n",
    "    \"bird\": 0,\n",
    "    \"actitis hypoleucos\": 1,\n",
    "    \"anthus pratensis\": 2,\n",
    "    \"calandrella brachydactyla\": 3,\n",
    "    \"carduelis carduelis\": 4,\n",
    "    \"cettia cetti\": 5,\n",
    "    \"chloris chloris\": 6,\n",
    "    \"ciconia ciconia\": 7,\n",
    "    \"cisticola juncidis\": 8,\n",
    "    \"curruca\": 9,\n",
    "    \"emberiza calandra\": 10,\n",
    "    \"erithacus rubecula\": 11,\n",
    "    \"fringilla\": 12,\n",
    "    \"galerida\": 13,\n",
    "    \"lanius\": 14,\n",
    "    \"luscinia megarhynchos\": 15,\n",
    "    \"merops apiaster\": 16,\n",
    "    \"motacilla\": 17,\n",
    "    \"parus major\": 18,\n",
    "    \"passer\": 19,\n",
    "    \"pica pica\": 20,\n",
    "    \"saxicola rubicola\": 21,\n",
    "    \"serinus serinus\": 22,\n",
    "    \"streptopelia decaocto\": 23,\n",
    "    \"sturnus\": 24,\n",
    "    \"turdus merula\": 25\n",
    "}"
   ]
  },
  {
   "cell_type": "code",
   "execution_count": 7,
   "metadata": {},
   "outputs": [],
   "source": [
    "# Function to get the index for a species\n",
    "def get_species_index(species):\n",
    "    return species_index.get(species, -1)  # Return -1 if species is not found\n",
    "\n",
    "# Print if there has been any -1\n",
    "for species in species_index.keys():\n",
    "    if get_species_index(species) == -1:\n",
    "        print(f\"Species {species} not found\")"
   ]
  },
  {
   "cell_type": "code",
   "execution_count": 8,
   "metadata": {},
   "outputs": [],
   "source": [
    "# Add the species index as the first element in the bbox column\n",
    "df['bbox'] = df.apply(lambda row: [get_species_index(row['specie'])] + eval(row['bbox']), axis=1)\n",
    "\n",
    "# Save the modified DataFrame to a new CSV file\n",
    "df.to_csv(input_file, index=False)"
   ]
  }
 ],
 "metadata": {
  "kernelspec": {
   "display_name": "BIRDeep_TFM_Alba",
   "language": "python",
   "name": "python3"
  },
  "language_info": {
   "codemirror_mode": {
    "name": "ipython",
    "version": 3
   },
   "file_extension": ".py",
   "mimetype": "text/x-python",
   "name": "python",
   "nbconvert_exporter": "python",
   "pygments_lexer": "ipython3",
   "version": "3.11.7"
  }
 },
 "nbformat": 4,
 "nbformat_minor": 2
}
