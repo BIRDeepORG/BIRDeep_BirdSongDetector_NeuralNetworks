{
 "cells": [
  {
   "cell_type": "code",
   "execution_count": 1,
   "metadata": {},
   "outputs": [],
   "source": [
    "import os"
   ]
  },
  {
   "cell_type": "code",
   "execution_count": 2,
   "metadata": {},
   "outputs": [],
   "source": [
    "# Define the paths to images and labels folders\n",
    "PATH = \"../Data/\" # \"../../../desarrollo/Data/\"\n",
    "\n",
    "labels_dir = PATH + 'Dataset/labels'\n",
    "new_labels_dir = PATH + 'Dataset/labels_fullheight'"
   ]
  },
  {
   "cell_type": "code",
   "execution_count": 3,
   "metadata": {},
   "outputs": [],
   "source": [
    "import os\n",
    "\n",
    "def transform_bounding_boxes(file_path):\n",
    "    transformed_boxes = []\n",
    "    with open(file_path, 'r') as f:\n",
    "        lines = f.readlines()\n",
    "        for line in lines:\n",
    "            parts = line.strip().split()\n",
    "            if len(parts) == 5:\n",
    "                class_num = parts[0]\n",
    "                x_center = float(parts[1])\n",
    "                y_center = 0.5  # Nuevo valor para y_center\n",
    "                width = float(parts[3])\n",
    "                height = 1.0  # Nuevo valor para height\n",
    "                transformed_boxes.append(f\"{class_num} {x_center} {y_center} {width} {height}\\n\")\n",
    "    return transformed_boxes\n",
    "\n",
    "def replicate_structure_and_transform(root_dir, new_labels_dir):\n",
    "    # Crea la estructura de carpetas primero\n",
    "    for subdir, dirs, files in os.walk(root_dir):\n",
    "        for dir in dirs:\n",
    "            dir_path = os.path.join(subdir, dir)\n",
    "            relative_path = os.path.relpath(dir_path, root_dir)\n",
    "            new_dir = os.path.join(new_labels_dir, relative_path)\n",
    "            if not os.path.exists(new_dir):\n",
    "                os.makedirs(new_dir)\n",
    "    \n",
    "    # Ahora procesa los archivos .txt\n",
    "    for subdir, _, files in os.walk(root_dir):\n",
    "        for file in files:\n",
    "            if file.endswith(\".txt\"):\n",
    "                file_path = os.path.join(subdir, file)\n",
    "                relative_path = os.path.relpath(file_path, root_dir)\n",
    "                new_file_path = os.path.join(new_labels_dir, relative_path)\n",
    "                new_dir = os.path.dirname(new_file_path)\n",
    "                \n",
    "                if not os.path.exists(new_dir):\n",
    "                    os.makedirs(new_dir)\n",
    "                \n",
    "                transformed_boxes = transform_bounding_boxes(file_path)\n",
    "                \n",
    "                with open(new_file_path, 'w') as new_file:\n",
    "                    new_file.writelines(transformed_boxes)\n",
    "\n",
    "replicate_structure_and_transform(labels_dir, new_labels_dir)"
   ]
  },
  {
   "cell_type": "code",
   "execution_count": 10,
   "metadata": {},
   "outputs": [
    {
     "name": "stdout",
     "output_type": "stream",
     "text": [
      "Total .txt files in ../Data/Dataset/labels and its subdirectories: 291\n",
      "Unique paths in the dataframe: 461\n"
     ]
    },
    {
     "ename": "AssertionError",
     "evalue": "The number of .txt files does not match the number of unique paths in the dataframe",
     "output_type": "error",
     "traceback": [
      "\u001b[1;31m---------------------------------------------------------------------------\u001b[0m",
      "\u001b[1;31mAssertionError\u001b[0m                            Traceback (most recent call last)",
      "Cell \u001b[1;32mIn[10], line 17\u001b[0m\n\u001b[0;32m     14\u001b[0m unique_paths \u001b[38;5;241m=\u001b[39m df[\u001b[38;5;124m'\u001b[39m\u001b[38;5;124mpath\u001b[39m\u001b[38;5;124m'\u001b[39m]\u001b[38;5;241m.\u001b[39mnunique()\n\u001b[0;32m     15\u001b[0m \u001b[38;5;28mprint\u001b[39m(\u001b[38;5;124m\"\u001b[39m\u001b[38;5;124mUnique paths in the dataframe:\u001b[39m\u001b[38;5;124m\"\u001b[39m, unique_paths)\n\u001b[1;32m---> 17\u001b[0m \u001b[38;5;28;01massert\u001b[39;00m total_txt_files \u001b[38;5;241m==\u001b[39m unique_paths, \u001b[38;5;124m\"\u001b[39m\u001b[38;5;124mThe number of .txt files does not match the number of unique paths in the dataframe\u001b[39m\u001b[38;5;124m\"\u001b[39m\n\u001b[0;32m     18\u001b[0m \u001b[38;5;66;03m# Da error porque hay 170 audios vacíos, por lo que no se crean los txt correspondientes -> está bn\u001b[39;00m\n",
      "\u001b[1;31mAssertionError\u001b[0m: The number of .txt files does not match the number of unique paths in the dataframe"
     ]
    }
   ],
   "source": [
    "def count_txt_files(directory):\n",
    "    txt_file_count = 0\n",
    "    for root, dirs, files in os.walk(directory):\n",
    "        for file in files:\n",
    "            if file.endswith(\".txt\"):\n",
    "                txt_file_count += 1\n",
    "    return txt_file_count\n",
    "\n",
    "# Count txt files in labels_dir\n",
    "total_txt_files = count_txt_files(labels_dir)\n",
    "print(\"Total .txt files in\", labels_dir, \"and its subdirectories:\", total_txt_files)\n",
    "\n",
    "# Count unique paths of the dataframe\n",
    "unique_paths = df['path'].nunique()\n",
    "print(\"Unique paths in the dataframe:\", unique_paths)\n",
    "\n",
    "assert total_txt_files == unique_paths, \"The number of .txt files does not match the number of unique paths in the dataframe\"\n",
    "# Da error porque hay 170 audios vacíos, por lo que no se crean los txt correspondientes -> está bn"
   ]
  }
 ],
 "metadata": {
  "kernelspec": {
   "display_name": "otherstuffystuff",
   "language": "python",
   "name": "python3"
  },
  "language_info": {
   "codemirror_mode": {
    "name": "ipython",
    "version": 3
   },
   "file_extension": ".py",
   "mimetype": "text/x-python",
   "name": "python",
   "nbconvert_exporter": "python",
   "pygments_lexer": "ipython3",
   "version": "3.11.9"
  },
  "orig_nbformat": 4
 },
 "nbformat": 4,
 "nbformat_minor": 2
}
