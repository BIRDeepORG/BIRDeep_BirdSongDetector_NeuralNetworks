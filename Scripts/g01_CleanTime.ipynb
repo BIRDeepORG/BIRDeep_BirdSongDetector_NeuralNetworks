{
 "cells": [
  {
   "cell_type": "markdown",
   "metadata": {},
   "source": [
    "# Clean frequencies"
   ]
  },
  {
   "cell_type": "code",
   "execution_count": 1,
   "metadata": {},
   "outputs": [],
   "source": [
    "import pandas as pd\n",
    "import numpy as np\n",
    "import matplotlib.pyplot as plt"
   ]
  },
  {
   "cell_type": "code",
   "execution_count": 2,
   "metadata": {},
   "outputs": [],
   "source": [
    "ROOT_PATH = \"../../../desarrollo/\"\n",
    "\n",
    "# Path to the CSV file of audio annotations\n",
    "csv_file = ROOT_PATH + \"Data/Annotations/audio_annotations.csv\""
   ]
  },
  {
   "cell_type": "code",
   "execution_count": 3,
   "metadata": {},
   "outputs": [
    {
     "data": {
      "text/html": [
       "<div>\n",
       "<style scoped>\n",
       "    .dataframe tbody tr th:only-of-type {\n",
       "        vertical-align: middle;\n",
       "    }\n",
       "\n",
       "    .dataframe tbody tr th {\n",
       "        vertical-align: top;\n",
       "    }\n",
       "\n",
       "    .dataframe thead th {\n",
       "        text-align: right;\n",
       "    }\n",
       "</style>\n",
       "<table border=\"1\" class=\"dataframe\">\n",
       "  <thead>\n",
       "    <tr style=\"text-align: right;\">\n",
       "      <th></th>\n",
       "      <th>path</th>\n",
       "      <th>annotator</th>\n",
       "      <th>recorder</th>\n",
       "      <th>date</th>\n",
       "      <th>time</th>\n",
       "      <th>audio_duration</th>\n",
       "      <th>start_time</th>\n",
       "      <th>end_time</th>\n",
       "      <th>low_frequency</th>\n",
       "      <th>high_frequency</th>\n",
       "      <th>specie</th>\n",
       "    </tr>\n",
       "  </thead>\n",
       "  <tbody>\n",
       "    <tr>\n",
       "      <th>0</th>\n",
       "      <td>AM1/2023_05_10/AM1_20230510_060000.WAV</td>\n",
       "      <td>Edu</td>\n",
       "      <td>AM1</td>\n",
       "      <td>2023/05/10</td>\n",
       "      <td>06:00:00</td>\n",
       "      <td>00:01:00</td>\n",
       "      <td>0.000000</td>\n",
       "      <td>0.565714</td>\n",
       "      <td>1857.890806</td>\n",
       "      <td>6823.249512</td>\n",
       "      <td>cyanopica cooki</td>\n",
       "    </tr>\n",
       "    <tr>\n",
       "      <th>1</th>\n",
       "      <td>AM1/2023_05_10/AM1_20230510_060000.WAV</td>\n",
       "      <td>Edu</td>\n",
       "      <td>AM1</td>\n",
       "      <td>2023/05/10</td>\n",
       "      <td>06:00:00</td>\n",
       "      <td>00:01:00</td>\n",
       "      <td>5.854286</td>\n",
       "      <td>6.960000</td>\n",
       "      <td>3610.597656</td>\n",
       "      <td>6273.062012</td>\n",
       "      <td>abiotic noise</td>\n",
       "    </tr>\n",
       "    <tr>\n",
       "      <th>2</th>\n",
       "      <td>AM1/2023_05_10/AM1_20230510_060000.WAV</td>\n",
       "      <td>Edu</td>\n",
       "      <td>AM1</td>\n",
       "      <td>2023/05/10</td>\n",
       "      <td>06:00:00</td>\n",
       "      <td>00:01:00</td>\n",
       "      <td>5.854286</td>\n",
       "      <td>6.934286</td>\n",
       "      <td>-1.000000</td>\n",
       "      <td>1785.524170</td>\n",
       "      <td>abiotic noise</td>\n",
       "    </tr>\n",
       "    <tr>\n",
       "      <th>3</th>\n",
       "      <td>AM1/2023_05_10/AM1_20230510_060000.WAV</td>\n",
       "      <td>Edu</td>\n",
       "      <td>AM1</td>\n",
       "      <td>2023/05/10</td>\n",
       "      <td>06:00:00</td>\n",
       "      <td>00:01:00</td>\n",
       "      <td>5.914286</td>\n",
       "      <td>6.925714</td>\n",
       "      <td>1881.718994</td>\n",
       "      <td>3449.984619</td>\n",
       "      <td>cyanopica cooki</td>\n",
       "    </tr>\n",
       "    <tr>\n",
       "      <th>4</th>\n",
       "      <td>AM1/2023_05_10/AM1_20230510_060000.WAV</td>\n",
       "      <td>Edu</td>\n",
       "      <td>AM1</td>\n",
       "      <td>2023/05/10</td>\n",
       "      <td>06:00:00</td>\n",
       "      <td>00:01:00</td>\n",
       "      <td>6.960000</td>\n",
       "      <td>11.297143</td>\n",
       "      <td>18.972063</td>\n",
       "      <td>5970.894531</td>\n",
       "      <td>abiotic noise</td>\n",
       "    </tr>\n",
       "  </tbody>\n",
       "</table>\n",
       "</div>"
      ],
      "text/plain": [
       "                                     path annotator recorder        date  \\\n",
       "0  AM1/2023_05_10/AM1_20230510_060000.WAV       Edu      AM1  2023/05/10   \n",
       "1  AM1/2023_05_10/AM1_20230510_060000.WAV       Edu      AM1  2023/05/10   \n",
       "2  AM1/2023_05_10/AM1_20230510_060000.WAV       Edu      AM1  2023/05/10   \n",
       "3  AM1/2023_05_10/AM1_20230510_060000.WAV       Edu      AM1  2023/05/10   \n",
       "4  AM1/2023_05_10/AM1_20230510_060000.WAV       Edu      AM1  2023/05/10   \n",
       "\n",
       "       time audio_duration  start_time   end_time  low_frequency  \\\n",
       "0  06:00:00       00:01:00    0.000000   0.565714    1857.890806   \n",
       "1  06:00:00       00:01:00    5.854286   6.960000    3610.597656   \n",
       "2  06:00:00       00:01:00    5.854286   6.934286      -1.000000   \n",
       "3  06:00:00       00:01:00    5.914286   6.925714    1881.718994   \n",
       "4  06:00:00       00:01:00    6.960000  11.297143      18.972063   \n",
       "\n",
       "   high_frequency           specie  \n",
       "0     6823.249512  cyanopica cooki  \n",
       "1     6273.062012    abiotic noise  \n",
       "2     1785.524170    abiotic noise  \n",
       "3     3449.984619  cyanopica cooki  \n",
       "4     5970.894531    abiotic noise  "
      ]
     },
     "execution_count": 3,
     "metadata": {},
     "output_type": "execute_result"
    }
   ],
   "source": [
    "# Load the CSV file into a pandas DataFrame\n",
    "annotations_df = pd.read_csv(csv_file)\n",
    "\n",
    "# Display the first few rows of the DataFrame to verify the correct loading of data\n",
    "annotations_df.head()"
   ]
  },
  {
   "cell_type": "code",
   "execution_count": 4,
   "metadata": {},
   "outputs": [
    {
     "name": "stdout",
     "output_type": "stream",
     "text": [
      "Count of instances:  3418\n",
      "Count of instances with start_time < 0:  0\n",
      "Count of instances with end_time > 60:  16\n",
      "Count of instances with end_time < start_time:  0\n"
     ]
    }
   ],
   "source": [
    "# Print number of instances\n",
    "print(\"Count of instances: \", len(annotations_df))\n",
    "\n",
    "# Print count of instances with start_time < 0\n",
    "print(\"Count of instances with start_time < 0: \", len(annotations_df[annotations_df['start_time'] < 0]))\n",
    "\n",
    "# Print count of instances with end_time > 60\n",
    "print(\"Count of instances with end_time > 60: \", len(annotations_df[annotations_df['end_time'] > 60]))\n",
    "\n",
    "# Print count of instances with end_time < start_time\n",
    "print(\"Count of instances with end_time < start_time: \", len(annotations_df[annotations_df['end_time'] < annotations_df['start_time']]))"
   ]
  },
  {
   "cell_type": "code",
   "execution_count": 7,
   "metadata": {},
   "outputs": [],
   "source": [
    "START_TIME = 0.0\n",
    "MAX_END_TIME = 60.0"
   ]
  },
  {
   "cell_type": "code",
   "execution_count": 8,
   "metadata": {},
   "outputs": [],
   "source": [
    "# If an instance has end_time > 60, set it to 60\n",
    "annotations_df.loc[annotations_df['end_time'] > 60, 'end_time'] = MAX_END_TIME"
   ]
  },
  {
   "cell_type": "code",
   "execution_count": 9,
   "metadata": {},
   "outputs": [
    {
     "name": "stdout",
     "output_type": "stream",
     "text": [
      "Count of instances:  3418\n",
      "Count of instances date = 2023/05/30:  247\n"
     ]
    }
   ],
   "source": [
    "# Print count of instances\n",
    "print(\"Count of instances: \", len(annotations_df))\n",
    "\n",
    "# Print count of instances date = 2023/05/30\n",
    "print(\"Count of instances date = 2023/05/30: \", len(annotations_df[annotations_df['date'] == '2023/05/30']))"
   ]
  },
  {
   "cell_type": "code",
   "execution_count": 10,
   "metadata": {},
   "outputs": [],
   "source": [
    "# Delete all rows whose date is 30/05/2023\n",
    "# annotations_df = annotations_df[annotations_df['date'] != '2023/05/30']"
   ]
  },
  {
   "cell_type": "code",
   "execution_count": 11,
   "metadata": {},
   "outputs": [
    {
     "name": "stdout",
     "output_type": "stream",
     "text": [
      "Count of instances:  3171\n"
     ]
    }
   ],
   "source": [
    "# Print count of instances\n",
    "print(\"Count of instances: \", len(annotations_df))"
   ]
  },
  {
   "cell_type": "code",
   "execution_count": 12,
   "metadata": {},
   "outputs": [],
   "source": [
    "# Save the updated DataFrame to a new CSV file\n",
    "annotations_df.to_csv(csv_file, index=False)"
   ]
  }
 ],
 "metadata": {
  "kernelspec": {
   "display_name": "BIRDeep_TFM_Alba",
   "language": "python",
   "name": "python3"
  },
  "language_info": {
   "codemirror_mode": {
    "name": "ipython",
    "version": 3
   },
   "file_extension": ".py",
   "mimetype": "text/x-python",
   "name": "python",
   "nbconvert_exporter": "python",
   "pygments_lexer": "ipython3",
   "version": "3.11.7"
  }
 },
 "nbformat": 4,
 "nbformat_minor": 2
}
