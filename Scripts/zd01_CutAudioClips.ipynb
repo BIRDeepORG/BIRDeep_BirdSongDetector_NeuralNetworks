{
 "cells": [
  {
   "cell_type": "code",
   "execution_count": 1,
   "metadata": {},
   "outputs": [],
   "source": [
    "import pandas as pd\n",
    "import librosa\n",
    "import soundfile as sf\n",
    "import os"
   ]
  },
  {
   "cell_type": "code",
   "execution_count": 2,
   "metadata": {},
   "outputs": [],
   "source": [
    "PATH = \"../Data/\" # \"../../../desarrollo/Data/\"\n",
    "OUTPUT_FOLDER = PATH + \"Dataset/Audios/BirdNet/train/\"\n",
    "\n",
    "train_csv = PATH + \"Dataset/CSVs/train_with_bg.csv\""
   ]
  },
  {
   "cell_type": "code",
   "execution_count": 3,
   "metadata": {},
   "outputs": [],
   "source": [
    "# Read the csv\n",
    "df = pd.read_csv(train_csv)"
   ]
  },
  {
   "cell_type": "code",
   "execution_count": 5,
   "metadata": {},
   "outputs": [
    {
     "name": "stdout",
     "output_type": "stream",
     "text": [
      "Proceso completado.\n"
     ]
    }
   ],
   "source": [
    "# Itera sobre cada fila del DataFrame\n",
    "for index, row in df.iterrows():\n",
    "    audio_path = row['path']\n",
    "    audio_path = PATH + \"Dataset/Audios/\" + audio_path\n",
    "    start_time = row['start_time']\n",
    "    end_time = row['end_time']\n",
    "    specie = row['specie']\n",
    "    \n",
    "    # Crea la carpeta para la especie si no existe\n",
    "    specie_folder = os.path.join(OUTPUT_FOLDER, specie)\n",
    "    if not os.path.exists(specie_folder):\n",
    "        os.makedirs(specie_folder)\n",
    "    \n",
    "    # Carga el audio\n",
    "    audio, sr = librosa.load(audio_path, sr=None)\n",
    "    \n",
    "    # Calcula los índices de inicio y fin en muestras\n",
    "    start_sample = int(start_time * sr)\n",
    "    end_sample = int(end_time * sr)\n",
    "    \n",
    "    # Recorta el audio\n",
    "    audio_cropped = audio[start_sample:end_sample]\n",
    "    \n",
    "    # Define el nombre del archivo de salida\n",
    "    output_filename = os.path.join(specie_folder, os.path.basename(audio_path))\n",
    "    \n",
    "    # Guarda el audio recortado\n",
    "    sf.write(output_filename, audio_cropped, sr)\n",
    "\n",
    "print(\"Proceso completado.\")"
   ]
  },
  {
   "cell_type": "code",
   "execution_count": 6,
   "metadata": {},
   "outputs": [],
   "source": [
    "Species_names_file = \"../BirdNET_GLOBAL_6K_V2.4_Labels.txt\"\n",
    "species = pd.read_csv(Species_names_file, sep=\"\\t\", header=None)"
   ]
  },
  {
   "cell_type": "code",
   "execution_count": 19,
   "metadata": {},
   "outputs": [
    {
     "name": "stdout",
     "output_type": "stream",
     "text": [
      "Folder Alaudidae not renamed because it is a general category. +++++++++++++++\n",
      "Folder Anthus pratensis renamed to Anthus pratensis_Meadow Pipit\n",
      "Species Background not found in the species list. ----------------\n",
      "Folder Bird not renamed because it is a general category. +++++++++++++++\n",
      "Folder Calandrella brachydactyla renamed to Calandrella brachydactyla_Greater Short-toed Lark\n",
      "Folder Carduelis carduelis renamed to Carduelis carduelis_European Goldfinch\n",
      "Folder Cettia cetti renamed to Cettia cetti_Cetti's Warbler\n",
      "Folder Chloris chloris renamed to Chloris chloris_European Greenfinch\n",
      "Folder Ciconia ciconia renamed to Ciconia ciconia_White Stork\n",
      "Folder Cisticola juncidis renamed to Cisticola juncidis_Zitting Cisticola\n",
      "Folder Curruca not renamed because it is a general category. +++++++++++++++\n",
      "Folder Curruca melanocephala renamed to Curruca melanocephala_Sardinian Warbler\n",
      "Folder Curruca undata renamed to Curruca undata_Dartford Warbler\n",
      "Folder Cyanopica cooki renamed to Cyanopica cooki_Iberian Magpie\n",
      "Folder Emberiza calandra renamed to Emberiza calandra_Corn Bunting\n",
      "Folder Falco tinnunculus renamed to Falco tinnunculus_Eurasian Kestrel\n",
      "Folder Fringilla not renamed because it is a general category. +++++++++++++++\n",
      "Folder Galerida cristata renamed to Galerida cristata_Crested Lark\n",
      "Folder Galerida theklae renamed to Galerida theklae_Thekla's Lark\n",
      "Folder Hippolais polyglotta renamed to Hippolais polyglotta_Melodious Warbler\n",
      "Folder Lanius not renamed because it is a general category. +++++++++++++++\n",
      "Folder Linaria cannabina renamed to Linaria cannabina_Eurasian Linnet\n",
      "Folder Luscinia megarhynchos renamed to Luscinia megarhynchos_Common Nightingale\n",
      "Folder Melanocorypha calandra renamed to Melanocorypha calandra_Calandra Lark\n",
      "Folder Merops apiaster renamed to Merops apiaster_European Bee-eater\n",
      "Folder Milvus migrans renamed to Milvus migrans_Black Kite\n",
      "Folder Motacilla flava renamed to Motacilla flava_Western Yellow Wagtail\n",
      "Folder Parus major renamed to Parus major_Great Tit\n",
      "Folder Passer not renamed because it is a general category. +++++++++++++++\n",
      "Folder Pica pica renamed to Pica pica_Eurasian Magpie\n",
      "Folder Saxicola rubicola renamed to Saxicola rubicola_European Stonechat\n",
      "Folder Serinus serinus renamed to Serinus serinus_European Serin\n",
      "Folder Streptopelia decaocto renamed to Streptopelia decaocto_Eurasian Collared-Dove\n",
      "Folder Sturnus not renamed because it is a general category. +++++++++++++++\n",
      "Folder Sturnus unicolor renamed to Sturnus unicolor_Spotless Starling\n",
      "Folder Sylvia not renamed because it is a general category. +++++++++++++++\n",
      "Folder Turdus merula renamed to Turdus merula_Eurasian Blackbird\n"
     ]
    }
   ],
   "source": [
    "# Change names of folders\n",
    "\n",
    "SPECIES_FOLDER = PATH + \"Dataset/Audios/BirdNet/train/\"\n",
    "\n",
    "# Change name for each subfolder\n",
    "for folder in os.listdir(SPECIES_FOLDER):\n",
    "    if os.path.isdir(os.path.join(SPECIES_FOLDER, folder)):\n",
    "        # Lowercase\n",
    "        # folder = folder.lower()\n",
    "\n",
    "        # Ensure folder name is lowercase, first letter uppercase and if there are two words, the second word begins with lowercase\n",
    "        folder = folder.lower().capitalize()\n",
    "        if \" \" in folder:\n",
    "            folder = folder.split(\" \")[0] + \" \" + folder.split(\" \")[1].lower()\n",
    "        \n",
    "        # Look for the row of the species that contains the folder name\n",
    "        row = species[species[0].str.contains(folder)]\n",
    "\n",
    "        # Don't change folder name if it is Bird, Curruca, Alaudidae\n",
    "        No_change = [\"Bird\", \"Curruca\", \"Alaudidae\", \"Fringilla\", \"Lanius\", \"Passer\", \"Sturnus\", \"Sylvia\"]\n",
    "        if folder in No_change:\n",
    "            print(f\"Folder {folder} not renamed because it is a general category. +++++++++++++++\")\n",
    "        elif folder == \"No audio\":\n",
    "            # Rename to Background\n",
    "            os.rename(os.path.join(SPECIES_FOLDER, folder), os.path.join(SPECIES_FOLDER, \"Background\"))\n",
    "        else:\n",
    "            # If the species is found, change the name of the folder\n",
    "            if not row.empty:\n",
    "                species_name = row.iloc[0][0]\n",
    "                os.rename(os.path.join(SPECIES_FOLDER, folder), os.path.join(SPECIES_FOLDER, species_name))\n",
    "                print(f\"Folder {folder} renamed to {species_name}\")\n",
    "            else:\n",
    "                print(f\"Species {folder} not found in the species list. ----------------\")"
   ]
  }
 ],
 "metadata": {
  "kernelspec": {
   "display_name": "BIRDeep_TFM_Alba",
   "language": "python",
   "name": "python3"
  },
  "language_info": {
   "codemirror_mode": {
    "name": "ipython",
    "version": 3
   },
   "file_extension": ".py",
   "mimetype": "text/x-python",
   "name": "python",
   "nbconvert_exporter": "python",
   "pygments_lexer": "ipython3",
   "version": "3.11.9"
  }
 },
 "nbformat": 4,
 "nbformat_minor": 2
}
