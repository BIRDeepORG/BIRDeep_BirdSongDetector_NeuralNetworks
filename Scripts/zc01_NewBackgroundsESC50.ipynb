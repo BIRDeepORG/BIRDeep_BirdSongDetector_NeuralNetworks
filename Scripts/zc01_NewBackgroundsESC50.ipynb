{
 "cells": [
  {
   "cell_type": "code",
   "execution_count": 1,
   "metadata": {},
   "outputs": [],
   "source": [
    "import os\n",
    "import numpy as np\n",
    "import pandas as pd\n",
    "\n",
    "import librosa\n",
    "\n",
    "import matplotlib.pyplot as plt"
   ]
  },
  {
   "cell_type": "code",
   "execution_count": 3,
   "metadata": {},
   "outputs": [],
   "source": [
    "# Paso 1: Leer el archivo CSV\n",
    "df = pd.read_csv('../ESC-50/meta/esc50.csv')\n",
    "\n",
    "# Paso 2: Filtrar las filas y quitar las columnas no deseadas\n",
    "categorias_nodeseadas = ['chirping_birds', 'rooster', 'hen', 'crow']\n",
    "filas_filtradas = df[~df['category'].isin(categorias_nodeseadas)][['filename', 'category']]\n",
    "\n",
    "# Paso 3: Modificar el valor de la columna \"filename\"\n",
    "filas_filtradas['filename'] = 'esc50/' + filas_filtradas['filename']"
   ]
  },
  {
   "cell_type": "code",
   "execution_count": 6,
   "metadata": {},
   "outputs": [],
   "source": [
    "# Paso 4: Guardar el archivo CSV\n",
    "filas_filtradas.to_csv('../ESC-50/meta/esc50_filtered.csv', index=False)"
   ]
  },
  {
   "cell_type": "code",
   "execution_count": 2,
   "metadata": {},
   "outputs": [
    {
     "name": "stderr",
     "output_type": "stream",
     "text": [
      "C:\\Users\\albam\\AppData\\Local\\Temp\\ipykernel_26996\\797186863.py:15: UserWarning: amplitude_to_db was called on complex input so phase information will be discarded. To suppress this warning, call amplitude_to_db(np.abs(S)) instead.\n",
      "  D = librosa.amplitude_to_db(librosa.stft(y), ref=np.max)\n"
     ]
    }
   ],
   "source": [
    "def create_spectrogram(audio_file):\n",
    "    y, sr = librosa.load(audio_file, sr=None)\n",
    "    \n",
    "    # Create the output path for the image\n",
    "    output_image_path = audio_file.replace('audio', 'images').replace(\".wav\", \".PNG\")\n",
    "    \n",
    "    # Ensure the output folder exists\n",
    "    os.makedirs(os.path.dirname(output_image_path), exist_ok=True)\n",
    "    \n",
    "    # Define the frequency range\n",
    "    fmin = 1  # Minimum frequency (0 Hz)\n",
    "    fmax = 16000  # Maximum frequency (32000 Hz)\n",
    "\n",
    "    fig, ax = plt.subplots(figsize=(12, 6))  # Set the background color to black\n",
    "    D = librosa.amplitude_to_db(librosa.stft(y), ref=np.max)\n",
    "    librosa.display.specshow(D, sr=sr, x_axis=\"time\", y_axis=\"log\", fmin=fmin, fmax=fmax, ax=ax)  # Specify frequency range\n",
    "    ax.axis('off')  # Remove axes\n",
    "\n",
    "    # Save the figure using the output_image_path\n",
    "    fig.savefig(output_image_path, bbox_inches='tight', pad_inches=0, transparent=True)\n",
    "    \n",
    "    # Close the figure to release memory resources\n",
    "    plt.close(fig)\n",
    "\n",
    "# Recursively iterate through all subdirectories and audio files\n",
    "for root, _, files in os.walk(\"../ESC-50/audio\"):\n",
    "    for file in files:\n",
    "        if file.endswith('.wav'):\n",
    "            audio_file = os.path.join(root, file)\n",
    "            output_image_path = audio_file.replace('audio', 'images').replace(\".wav\", \".PNG\")\n",
    "            if not os.path.exists(output_image_path): # Skip if the image already exists\n",
    "                try:\n",
    "                    create_spectrogram(audio_file)\n",
    "                except Exception as e:\n",
    "                    print(f\"An error occurred while processing {audio_file}: {e}\")\n",
    "                    continue"
   ]
  },
  {
   "cell_type": "code",
   "execution_count": 6,
   "metadata": {},
   "outputs": [],
   "source": [
    "# Create a txt: train_background.txt with the path of the images of the csv filtered and add at the filename \"Data/Dataset/images/\"\n",
    "df = pd.read_csv('../ESC-50/meta/esc50_filtered.csv')\n",
    "df['filename'] = 'Data/Dataset/images/' + df['filename']\n",
    "# Replace for each filename the .wav for .PNG\n",
    "df['filename'] = df['filename'].str.replace('.wav', '.PNG')\n",
    "df.to_csv('../ESC-50/meta/esc50_filtered.csv', index=False)"
   ]
  },
  {
   "cell_type": "code",
   "execution_count": 7,
   "metadata": {},
   "outputs": [],
   "source": [
    "# Create a txt: train_background.txt with the path of the images of the df\n",
    "df.to_csv('../ESC-50/meta/train_background.txt', columns=['filename'], index=False, header=False)"
   ]
  }
 ],
 "metadata": {
  "kernelspec": {
   "display_name": "BIRDeep",
   "language": "python",
   "name": "python3"
  },
  "language_info": {
   "codemirror_mode": {
    "name": "ipython",
    "version": 3
   },
   "file_extension": ".py",
   "mimetype": "text/x-python",
   "name": "python",
   "nbconvert_exporter": "python",
   "pygments_lexer": "ipython3",
   "version": "3.11.9"
  }
 },
 "nbformat": 4,
 "nbformat_minor": 2
}
