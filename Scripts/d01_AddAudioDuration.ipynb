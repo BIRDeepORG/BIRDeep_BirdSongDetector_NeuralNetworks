{
 "cells": [
  {
   "cell_type": "markdown",
   "metadata": {},
   "source": [
    "## Calculating Audio Durations and Updating CSV\n",
    "\n",
    "This Jupyter Notebook calculates the durations of audio files and updates a CSV file. The CSV file, named `audio_annotations.csv`, is expected to have information about audio files, including paths.\n",
    "\n",
    "1. **Read the CSV File**: The code reads the input CSV file, which is assumed to be structured with columns for paths and other attributes.\n",
    "\n",
    "2. **Sort by Path**: The audio files are sorted by their paths to group identical audio files together for efficient duration calculations.\n",
    "\n",
    "3. **Calculate Durations**: It iterates through the sorted DataFrame and calculates the duration for each audio file using the `pydub` library.\n",
    "\n",
    "4. **Update the DataFrame**: The code updates the DataFrame with the calculated audio durations. If an audio file shares a path with a previous one, it reuses the previously calculated duration to save computation time.\n",
    "\n",
    "5. **Rearrange Columns**: The columns are rearranged to place the new 'audio_duration' column next to the 'time' column.\n",
    "\n",
    "6. **Save to New CSV**: The updated DataFrame is saved as a new CSV file.\n"
   ]
  },
  {
   "cell_type": "code",
   "execution_count": 1,
   "metadata": {},
   "outputs": [],
   "source": [
    "import pandas as pd\n",
    "from pydub import AudioSegment"
   ]
  },
  {
   "cell_type": "code",
   "execution_count": 2,
   "metadata": {},
   "outputs": [],
   "source": [
    "ROOT_PATH = \"../../../desarrollo/\"\n",
    "\n",
    "DATASET_FOLDER = ROOT_PATH + \"Audio_Data/\"\n",
    "\n",
    "# Load the CSV file\n",
    "input_file = ROOT_PATH + \"Data/Annotations/\" + \"c01_audio_annotations.csv\"\n",
    "df = pd.read_csv(input_file)\n",
    "\n",
    "# Path to the folder where you want to save the CSV files\n",
    "output_file = ROOT_PATH + \"Data/Annotations/\" + \"d01_audio_annotations.csv\""
   ]
  },
  {
   "cell_type": "code",
   "execution_count": 3,
   "metadata": {},
   "outputs": [
    {
     "name": "stdout",
     "output_type": "stream",
     "text": [
      "../../../desarrollo/Audio_Data/AM1/2023_05_12/Audios/AM1_20230512_073000.WAV\n",
      "../../../desarrollo/Audio_Data/AM1/2023_05_12/Audios/AM1_20230512_073000.WAV\n",
      "../../../desarrollo/Audio_Data/AM1/2023_05_12/Audios/AM1_20230512_073000.WAV\n",
      "../../../desarrollo/Audio_Data/AM1/2023_05_12/Audios/AM1_20230512_073000.WAV\n",
      "../../../desarrollo/Audio_Data/AM1/2023_05_12/Audios/AM1_20230512_073000.WAV\n",
      "../../../desarrollo/Audio_Data/AM1/2023_05_12/Audios/AM1_20230512_073000.WAV\n",
      "../../../desarrollo/Audio_Data/AM1/2023_05_12/Audios/AM1_20230512_073000.WAV\n",
      "../../../desarrollo/Audio_Data/AM1/2023_05_12/Audios/AM1_20230512_073000.WAV\n"
     ]
    }
   ],
   "source": [
    "# Leer el archivo CSV\n",
    "df = pd.read_csv(input_file)\n",
    "\n",
    "# Sort the DataFrame by 'path'\n",
    "df = df.sort_values(by='path')\n",
    "\n",
    "# Look for files that are in the csv but not in the folder and print path\n",
    "for index, row in df.iterrows():\n",
    "    file_path = row[\"path\"]\n",
    "    file_path = DATASET_FOLDER + file_path\n",
    "    try:\n",
    "        audio = AudioSegment.from_file(file_path)\n",
    "    except FileNotFoundError:\n",
    "        print(file_path)"
   ]
  },
  {
   "cell_type": "code",
   "execution_count": 8,
   "metadata": {},
   "outputs": [
    {
     "ename": "FileNotFoundError",
     "evalue": "[Errno 2] No such file or directory: '../../../desarrollo/Audio_Data/AM1/2023_05_12/Audios/AM1_20230512_073000.WAV'",
     "output_type": "error",
     "traceback": [
      "\u001b[0;31m---------------------------------------------------------------------------\u001b[0m",
      "\u001b[0;31mFileNotFoundError\u001b[0m                         Traceback (most recent call last)",
      "Cell \u001b[0;32mIn[8], line 19\u001b[0m\n\u001b[1;32m     16\u001b[0m path \u001b[38;5;241m=\u001b[39m row[\u001b[38;5;124m'\u001b[39m\u001b[38;5;124mpath\u001b[39m\u001b[38;5;124m'\u001b[39m]\n\u001b[1;32m     17\u001b[0m \u001b[38;5;28;01mif\u001b[39;00m path \u001b[38;5;241m!=\u001b[39m prev_path:\n\u001b[1;32m     18\u001b[0m     \u001b[38;5;66;03m# This is a new audio file, calculate its duration\u001b[39;00m\n\u001b[0;32m---> 19\u001b[0m     audio \u001b[38;5;241m=\u001b[39m \u001b[43mAudioSegment\u001b[49m\u001b[38;5;241;43m.\u001b[39;49m\u001b[43mfrom_file\u001b[49m\u001b[43m(\u001b[49m\u001b[43mDATASET_FOLDER\u001b[49m\u001b[43m \u001b[49m\u001b[38;5;241;43m+\u001b[39;49m\u001b[43m \u001b[49m\u001b[43mpath\u001b[49m\u001b[43m,\u001b[49m\u001b[43m \u001b[49m\u001b[38;5;28;43mformat\u001b[39;49m\u001b[38;5;241;43m=\u001b[39;49m\u001b[38;5;124;43m\"\u001b[39;49m\u001b[38;5;124;43mwav\u001b[39;49m\u001b[38;5;124;43m\"\u001b[39;49m\u001b[43m)\u001b[49m\n\u001b[1;32m     20\u001b[0m     duration_seconds \u001b[38;5;241m=\u001b[39m \u001b[38;5;28mlen\u001b[39m(audio) \u001b[38;5;241m/\u001b[39m \u001b[38;5;241m1000\u001b[39m  \u001b[38;5;66;03m# Convert to seconds\u001b[39;00m\n\u001b[1;32m     21\u001b[0m     duration_time \u001b[38;5;241m=\u001b[39m pd\u001b[38;5;241m.\u001b[39mto_datetime(duration_seconds, unit\u001b[38;5;241m=\u001b[39m\u001b[38;5;124m'\u001b[39m\u001b[38;5;124ms\u001b[39m\u001b[38;5;124m'\u001b[39m)\u001b[38;5;241m.\u001b[39mstrftime(\u001b[38;5;124m'\u001b[39m\u001b[38;5;124m%\u001b[39m\u001b[38;5;124mH:\u001b[39m\u001b[38;5;124m%\u001b[39m\u001b[38;5;124mM:\u001b[39m\u001b[38;5;124m%\u001b[39m\u001b[38;5;124mS\u001b[39m\u001b[38;5;124m'\u001b[39m)\n",
      "File \u001b[0;32m~/.conda/envs/BIRDeep_TFM_Alba/lib/python3.11/site-packages/pydub/audio_segment.py:651\u001b[0m, in \u001b[0;36mAudioSegment.from_file\u001b[0;34m(cls, file, format, codec, parameters, start_second, duration, **kwargs)\u001b[0m\n\u001b[1;32m    649\u001b[0m \u001b[38;5;28;01mexcept\u001b[39;00m \u001b[38;5;167;01mTypeError\u001b[39;00m:\n\u001b[1;32m    650\u001b[0m     filename \u001b[38;5;241m=\u001b[39m \u001b[38;5;28;01mNone\u001b[39;00m\n\u001b[0;32m--> 651\u001b[0m file, close_file \u001b[38;5;241m=\u001b[39m \u001b[43m_fd_or_path_or_tempfile\u001b[49m\u001b[43m(\u001b[49m\u001b[43mfile\u001b[49m\u001b[43m,\u001b[49m\u001b[43m \u001b[49m\u001b[38;5;124;43m'\u001b[39;49m\u001b[38;5;124;43mrb\u001b[39;49m\u001b[38;5;124;43m'\u001b[39;49m\u001b[43m,\u001b[49m\u001b[43m \u001b[49m\u001b[43mtempfile\u001b[49m\u001b[38;5;241;43m=\u001b[39;49m\u001b[38;5;28;43;01mFalse\u001b[39;49;00m\u001b[43m)\u001b[49m\n\u001b[1;32m    653\u001b[0m \u001b[38;5;28;01mif\u001b[39;00m \u001b[38;5;28mformat\u001b[39m:\n\u001b[1;32m    654\u001b[0m     \u001b[38;5;28mformat\u001b[39m \u001b[38;5;241m=\u001b[39m \u001b[38;5;28mformat\u001b[39m\u001b[38;5;241m.\u001b[39mlower()\n",
      "File \u001b[0;32m~/.conda/envs/BIRDeep_TFM_Alba/lib/python3.11/site-packages/pydub/utils.py:60\u001b[0m, in \u001b[0;36m_fd_or_path_or_tempfile\u001b[0;34m(fd, mode, tempfile)\u001b[0m\n\u001b[1;32m     57\u001b[0m     close_fd \u001b[38;5;241m=\u001b[39m \u001b[38;5;28;01mTrue\u001b[39;00m\n\u001b[1;32m     59\u001b[0m \u001b[38;5;28;01mif\u001b[39;00m \u001b[38;5;28misinstance\u001b[39m(fd, basestring):\n\u001b[0;32m---> 60\u001b[0m     fd \u001b[38;5;241m=\u001b[39m \u001b[38;5;28mopen\u001b[39m(fd, mode\u001b[38;5;241m=\u001b[39mmode)\n\u001b[1;32m     61\u001b[0m     close_fd \u001b[38;5;241m=\u001b[39m \u001b[38;5;28;01mTrue\u001b[39;00m\n\u001b[1;32m     63\u001b[0m \u001b[38;5;28;01mtry\u001b[39;00m:\n",
      "\u001b[0;31mFileNotFoundError\u001b[0m: [Errno 2] No such file or directory: '../../../desarrollo/Audio_Data/AM1/2023_05_12/Audios/AM1_20230512_073000.WAV'"
     ]
    }
   ],
   "source": [
    "# Leer el archivo CSV\n",
    "df = pd.read_csv(input_file)\n",
    "\n",
    "# Sort the DataFrame by 'path'\n",
    "df = df.sort_values(by='path')\n",
    "\n",
    "# Create a new column to store the audio duration in HH:MM:SS format\n",
    "df['audio_duration'] = \"\"\n",
    "\n",
    "# Initialize variables to track the previous path and its audio duration\n",
    "prev_path = \"\"\n",
    "prev_duration = None\n",
    "\n",
    "# Iterate through the sorted DataFrame and calculate the duration of each audio\n",
    "for index, row in df.iterrows():\n",
    "    path = row['path']\n",
    "    if path != prev_path:\n",
    "        try:\n",
    "            # This is a new audio file, calculate its duration\n",
    "            audio = AudioSegment.from_file(DATASET_FOLDER + path, format=\"wav\")\n",
    "            duration_seconds = len(audio) / 1000  # Convert to seconds\n",
    "            duration_time = pd.to_datetime(duration_seconds, unit='s').strftime('%H:%M:%S')\n",
    "            df.at[index, 'audio_duration'] = duration_time\n",
    "            prev_duration = duration_time\n",
    "        except FileNotFoundError:\n",
    "            print(file_path)\n",
    "    else:\n",
    "        # This audio file has the same path as the previous one, use the previous duration\n",
    "        df.at[index, 'audio_duration'] = prev_duration\n",
    "\n",
    "    prev_path = path\n",
    "\n",
    "# Rearrange the columns to place 'audio_duration' after 'time'\n",
    "columns = ['path', 'recorder', 'date', 'time', 'audio_duration', 'start_time', 'end_time', 'low_frequency', 'high_frequency', 'specie']\n",
    "#columns = ['path', 'recorder', 'date', 'time', 'audio_duration', 'start_time', 'end_time', 'specie']\n",
    "df = df[columns]\n",
    "\n",
    "# Save the updated DataFrame to a new CSV file\n",
    "df.to_csv(output_file, index=False)"
   ]
  }
 ],
 "metadata": {
  "kernelspec": {
   "display_name": "BIRDeep",
   "language": "python",
   "name": "python3"
  },
  "language_info": {
   "codemirror_mode": {
    "name": "ipython",
    "version": 3
   },
   "file_extension": ".py",
   "mimetype": "text/x-python",
   "name": "python",
   "nbconvert_exporter": "python",
   "pygments_lexer": "ipython3",
   "version": "3.11.7"
  }
 },
 "nbformat": 4,
 "nbformat_minor": 2
}
