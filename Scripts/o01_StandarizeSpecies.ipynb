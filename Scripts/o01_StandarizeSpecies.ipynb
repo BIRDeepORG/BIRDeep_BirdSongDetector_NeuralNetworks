{
 "cells": [
  {
   "cell_type": "markdown",
   "metadata": {},
   "source": [
    "This Jupyter Notebook is designed to extract unique species names from an existing CSV file containing audio annotations. The annotations include information such as the path to the audio file, recording details, duration, time, frequency ranges, species names, and bounding box coordinates. \n",
    "\n",
    "The notebook performs the following tasks:\n",
    "\n",
    "1. **Data Loading**: It loads the original CSV file containing audio annotations, which includes species names.\n",
    "\n",
    "2. **Unique Species Extraction**: It extracts unique species names from the loaded CSV file.\n",
    "\n",
    "3. **Data Transformation**: The unique species names are then stored in a new DataFrame.\n",
    "\n",
    "4. **Data Saving**: Finally, the DataFrame containing the unique species names is saved to a new CSV file for further analysis or use in other projects.\n",
    "\n",
    "By executing this notebook, users can efficiently extract and organize unique species names from the audio annotations dataset, facilitating subsequent analysis and data management tasks."
   ]
  },
  {
   "cell_type": "code",
   "execution_count": 1,
   "metadata": {},
   "outputs": [],
   "source": [
    "import pandas as pd"
   ]
  },
  {
   "cell_type": "code",
   "execution_count": 2,
   "metadata": {},
   "outputs": [],
   "source": [
    "# Definir el ROOT_PATH\n",
    "ROOT_PATH = \"../../../desarrollo/\"\n",
    "\n",
    "# Path al CSV original de las anotaciones de audio\n",
    "csv_file = ROOT_PATH + \"Data/Annotations/audio_annotations.csv\"\n",
    "\n",
    "# Leer el CSV original\n",
    "df = pd.read_csv(csv_file)"
   ]
  },
  {
   "cell_type": "code",
   "execution_count": 3,
   "metadata": {},
   "outputs": [],
   "source": [
    "# Get the unique species names\n",
    "unique_species = df['specie'].unique()\n",
    "\n",
    "# Create a DataFrame with the unique species names\n",
    "species_df = pd.DataFrame(unique_species, columns=['Species'])\n",
    "\n",
    "# Order alphabetically\n",
    "species_df = species_df.sort_values(by='Species')\n",
    "\n",
    "# Path to the CSV to save the unique species names\n",
    "output_csv = ROOT_PATH + \"Data/Annotations/unique_species.csv\"\n",
    "\n",
    "# Save the unique species names to a new CSV\n",
    "species_df.to_csv(output_csv, index=False)"
   ]
  },
  {
   "cell_type": "code",
   "execution_count": 4,
   "metadata": {},
   "outputs": [
    {
     "name": "stdout",
     "output_type": "stream",
     "text": [
      "Number of annotations:  3700\n"
     ]
    }
   ],
   "source": [
    "# Function to perform species mapping\n",
    "def map_species(input_file, output_file, species_mapping_file):\n",
    "    # Get the species mapping DataFrame\n",
    "    species_mapping_df = pd.read_csv(species_mapping_file)\n",
    "\n",
    "    if species_mapping_df is None:\n",
    "        print(\"Error getting species mapping.\")\n",
    "        return\n",
    "\n",
    "    # Read the input file\n",
    "    input_df = pd.read_csv(input_file)\n",
    "\n",
    "    # Map the species using the mapping DataFrame\n",
    "    input_df['specie'] = input_df['specie'].map(dict(zip(species_mapping_df['Species'], species_mapping_df['Specie_Name'])))\n",
    "\n",
    "    # Number of rows of df\n",
    "    print(\"Number of annotations: \", len(input_df))\n",
    "\n",
    "    # Save the output file\n",
    "    input_df.to_csv(output_file, index=False)\n",
    "\n",
    "# Usage of the map_species function\n",
    "input_file = ROOT_PATH + \"Data/Annotations/audio_annotations.csv\"\n",
    "output_file = ROOT_PATH + \"Data/Annotations/o01_audio_annotations_species.csv\"\n",
    "species_mapping_file = ROOT_PATH + \"Data/Annotations/unique_species_mapped.csv\"\n",
    "\n",
    "map_species(input_file, output_file, species_mapping_file)"
   ]
  },
  {
   "cell_type": "code",
   "execution_count": 5,
   "metadata": {},
   "outputs": [],
   "source": [
    "input_file = ROOT_PATH + \"Data/Annotations/o01_audio_annotations_species.csv\"\n",
    "output_file = ROOT_PATH + \"Data/Annotations/o02_audio_annotations.csv\"\n",
    "\n",
    "# Read the input file\n",
    "input_df = pd.read_csv(input_file)\n",
    "\n",
    "# Delete rows with specie \"quiroptera\" (1) and unknown\n",
    "input_df = input_df[input_df['specie'] != \"quiroptera\"]\n",
    "# input_df = input_df[input_df['specie'] != \"unknown\"] # Unknown = Bird\n",
    "input_df = input_df[input_df['specie'] != \"abiotic noise\"]\n",
    "input_df = input_df[input_df['specie'] != \"insect\"]\n",
    "\n",
    "# Get the species counts\n",
    "species_counts = input_df['specie'].value_counts()\n",
    "\n",
    "# Get the species with less than X samples\n",
    "X = 10\n",
    "less_than_10 = species_counts[species_counts < X]\n",
    "\n",
    "# Map the species with less than 10 samples to \"bird\"\n",
    "input_df['specie'] = input_df['specie'].apply(lambda x: \"bird\" if x in less_than_10 else x)\n",
    "\n",
    "# unknown is bird\n",
    "input_df['specie'] = input_df['specie'].apply(lambda x: \"bird\" if x == \"unknown\" else x)\n",
    "\n",
    "# Save the output file\n",
    "input_df.to_csv(output_file, index=False)\n",
    "\n",
    "# Also save the CSV with name dataset.csv\n",
    "output_file = ROOT_PATH + \"Data/CSVs/dataset.csv\"\n",
    "input_df.to_csv(output_file, index=False)"
   ]
  },
  {
   "cell_type": "code",
   "execution_count": 6,
   "metadata": {},
   "outputs": [
    {
     "name": "stdout",
     "output_type": "stream",
     "text": [
      "Number of annotations:  3449\n"
     ]
    }
   ],
   "source": [
    "# Number of rows of df\n",
    "print(\"Number of annotations: \", len(input_df))"
   ]
  },
  {
   "cell_type": "code",
   "execution_count": 3,
   "metadata": {},
   "outputs": [],
   "source": [
    "output_file = ROOT_PATH + \"Data/Annotations/o02_audio_annotations.csv\""
   ]
  },
  {
   "cell_type": "code",
   "execution_count": 4,
   "metadata": {},
   "outputs": [
    {
     "name": "stdout",
     "output_type": "stream",
     "text": [
      "0: bird\n",
      "1: alaudidae\n",
      "2: calandrella brachydactyla\n",
      "3: carduelis carduelis\n",
      "4: cettia cetti\n",
      "5: chloris chloris\n",
      "6: ciconia ciconia\n",
      "7: cisticola juncidis\n",
      "8: coturnix coturnix\n",
      "9: curruca\n",
      "10: emberiza calandra\n",
      "11: fringilla\n",
      "12: galerida\n",
      "13: lanius\n",
      "14: luscinia megarhynchos\n",
      "15: melanocorypha calandra\n",
      "16: merops apiaster\n",
      "17: milvus migrans\n",
      "18: motacilla flava\n",
      "19: parus major\n",
      "20: passer\n",
      "21: pica pica\n",
      "22: saxicola rubicola\n",
      "23: streptopelia\n",
      "24: sturnus\n",
      "25: tringa\n",
      "26: turdus\n"
     ]
    }
   ],
   "source": [
    "# Take outputfile and print the unique species ordered alphabetically and preceded by an enumeration starting by 0 and :\n",
    "df = pd.read_csv(output_file)\n",
    "df['specie'] = df['specie'].astype(str)\n",
    "# Sort unique species alphabetically\n",
    "unique_species_sorted = sorted(df['specie'].unique())\n",
    "\n",
    "# eliminate abiotic noise, unknown and nan\n",
    "unique_species_sorted = [x for x in unique_species_sorted if x not in ['abiotic noise', 'nan', 'insect']]\n",
    "\n",
    "# Put Bird the first\n",
    "unique_species_sorted.remove('bird')\n",
    "unique_species_sorted.insert(0, 'bird')\n",
    "\n",
    "for i, specie in enumerate(unique_species_sorted):\n",
    "    print(f\"{i}: {specie}\")"
   ]
  },
  {
   "cell_type": "code",
   "execution_count": 4,
   "metadata": {},
   "outputs": [
    {
     "name": "stdout",
     "output_type": "stream",
     "text": [
      "Count of instances:  3449\n",
      "Count of instances with low_frequency == -1:  1\n",
      "Count of instances with high_frequency == -1:  183\n",
      "Total number of instances with frequencies == -1:  184\n",
      "\n",
      "\n",
      "\n",
      "\n",
      "\n",
      "Low frequency == -1\n",
      " path                         AM1/2023_05_15/AM1_20230515_070000.WAV\n",
      "recorder                                                        AM1\n",
      "date                                                     2023/05/15\n",
      "time                                                       07:00:00\n",
      "audio_duration                                             00:01:00\n",
      "start_time                                                28.225158\n",
      "end_time                                                  29.801838\n",
      "low_frequency                                                  -1.0\n",
      "high_frequency                                          2844.192383\n",
      "specie                                                         bird\n",
      "bbox              [0.4827956989247312, 0.5881351138766071, 0.025...\n",
      "Name: 73, dtype: object\n",
      "\n",
      "\n",
      "\n",
      "High frequency == -1\n",
      " path                       AM15/2023_03_29/AM15_20230329_100000.WAV\n",
      "recorder                                                       AM15\n",
      "date                                                     2023/03/29\n",
      "time                                                       10:00:00\n",
      "audio_duration                                             00:01:00\n",
      "start_time                                                31.180693\n",
      "end_time                                                  33.252441\n",
      "low_frequency                                           4619.383301\n",
      "high_frequency                                                 -1.0\n",
      "specie                                            emberiza calandra\n",
      "bbox              [0.5365591397849462, -16.75184978692273, 0.034...\n",
      "Name: 332, dtype: object\n"
     ]
    }
   ],
   "source": [
    "output_file = ROOT_PATH + \"Data/Annotations/o02_audio_annotations.csv\"\n",
    "\n",
    "annotations_df = pd.read_csv(output_file)\n",
    "\n",
    "# Print number of instances\n",
    "print(\"Count of instances: \", len(annotations_df))\n",
    "\n",
    "# Print count of instances with low_frequency == -1\n",
    "print(\"Count of instances with low_frequency == -1: \", len(annotations_df[annotations_df.low_frequency == -1]))\n",
    "\n",
    "# high_frequency == -1\n",
    "print(\"Count of instances with high_frequency == -1: \", len(annotations_df[annotations_df.high_frequency == -1]))\n",
    "\n",
    "# Total number of instances with frequencies == -1\n",
    "print(\"Total number of instances with frequencies == -1: \", len(annotations_df[(annotations_df.low_frequency == -1) | (annotations_df.high_frequency == -1)]))\n",
    "\n",
    "print(\"\\n\\n\\n\\n\")\n",
    "# Print a row with low_frequency == -1\n",
    "print(\"Low frequency == -1\\n\", annotations_df[annotations_df.low_frequency == -1].iloc[0])\n",
    "print(\"\\n\\n\")\n",
    "# Print a row with high_frequency == -1\n",
    "print(\"High frequency == -1\\n\", annotations_df[annotations_df.high_frequency == -1].iloc[0])"
   ]
  },
  {
   "cell_type": "code",
   "execution_count": 6,
   "metadata": {},
   "outputs": [],
   "source": [
    "# Save df[\"path\"] in a txt file for those rows with low_frequency == -1 or high_frequency == -1\n",
    "\n",
    "# Get the paths of the rows with low_frequency == -1 or high_frequency == -1\n",
    "paths = annotations_df[(annotations_df.low_frequency == -1) | (annotations_df.high_frequency == -1)].path\n",
    "\n",
    "# only unique paths\n",
    "paths = paths.drop_duplicates()\n",
    "\n",
    "# Save the paths to a txt file\n",
    "output_file = \"missing_frequencies_paths.txt\"\n",
    "paths.to_csv(output_file, index=False)"
   ]
  }
 ],
 "metadata": {
  "kernelspec": {
   "display_name": "BIRDeep_TFM_Alba",
   "language": "python",
   "name": "python3"
  },
  "language_info": {
   "codemirror_mode": {
    "name": "ipython",
    "version": 3
   },
   "file_extension": ".py",
   "mimetype": "text/x-python",
   "name": "python",
   "nbconvert_exporter": "python",
   "pygments_lexer": "ipython3",
   "version": "3.11.7"
  }
 },
 "nbformat": 4,
 "nbformat_minor": 2
}
