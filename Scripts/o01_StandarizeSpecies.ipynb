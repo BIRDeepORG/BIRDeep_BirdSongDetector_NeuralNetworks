{
 "cells": [
  {
   "cell_type": "markdown",
   "metadata": {},
   "source": [
    "This Jupyter Notebook is designed to extract unique species names from an existing CSV file containing audio annotations. The annotations include information such as the path to the audio file, recording details, duration, time, frequency ranges, species names, and bounding box coordinates. \n",
    "\n",
    "The notebook performs the following tasks:\n",
    "\n",
    "1. **Data Loading**: It loads the original CSV file containing audio annotations, which includes species names.\n",
    "\n",
    "2. **Unique Species Extraction**: It extracts unique species names from the loaded CSV file.\n",
    "\n",
    "3. **Data Transformation**: The unique species names are then stored in a new DataFrame.\n",
    "\n",
    "4. **Data Saving**: Finally, the DataFrame containing the unique species names is saved to a new CSV file for further analysis or use in other projects.\n",
    "\n",
    "By executing this notebook, users can efficiently extract and organize unique species names from the audio annotations dataset, facilitating subsequent analysis and data management tasks."
   ]
  },
  {
   "cell_type": "code",
   "execution_count": 1,
   "metadata": {},
   "outputs": [],
   "source": [
    "import pandas as pd"
   ]
  },
  {
   "cell_type": "code",
   "execution_count": 2,
   "metadata": {},
   "outputs": [],
   "source": [
    "# Definir el ROOT_PATH\n",
    "ROOT_PATH = \"../../../desarrollo/\"\n",
    "\n",
    "# Path al CSV original de las anotaciones de audio\n",
    "csv_file = ROOT_PATH + \"Data/Annotations/audio_annotations.csv\"\n",
    "\n",
    "# Leer el CSV original\n",
    "df = pd.read_csv(csv_file)"
   ]
  },
  {
   "cell_type": "code",
   "execution_count": 7,
   "metadata": {},
   "outputs": [],
   "source": [
    "# Get the unique species names\n",
    "unique_species = df['specie'].unique()\n",
    "\n",
    "# Create a DataFrame with the unique species names\n",
    "species_df = pd.DataFrame(unique_species, columns=['Species'])\n",
    "\n",
    "# Order alphabetically\n",
    "species_df = species_df.sort_values(by='Species')\n",
    "\n",
    "# Path to the CSV to save the unique species names\n",
    "output_csv = \"../Data/Annotations/unique_species.csv\"\n",
    "\n",
    "# Save the unique species names to a new CSV\n",
    "species_df.to_csv(output_csv, index=False)"
   ]
  },
  {
   "cell_type": "code",
   "execution_count": 11,
   "metadata": {},
   "outputs": [],
   "source": [
    "! cp ../Data/Annotations/unique_species_mapped.csv ../../../desarrollo/Data/Annotations/unique_species_mapped.csv "
   ]
  },
  {
   "cell_type": "code",
   "execution_count": 12,
   "metadata": {},
   "outputs": [
    {
     "name": "stdout",
     "output_type": "stream",
     "text": [
      "Number of annotations:  3171\n"
     ]
    }
   ],
   "source": [
    "# Function to perform species mapping\n",
    "def map_species(input_file, output_file, species_mapping_file):\n",
    "    # Get the species mapping DataFrame\n",
    "    species_mapping_df = pd.read_csv(species_mapping_file)\n",
    "\n",
    "    if species_mapping_df is None:\n",
    "        print(\"Error getting species mapping.\")\n",
    "        return\n",
    "\n",
    "    # Read the input file\n",
    "    input_df = pd.read_csv(input_file)\n",
    "\n",
    "    # Map the species using the mapping DataFrame\n",
    "    input_df['specie'] = input_df['specie'].map(dict(zip(species_mapping_df['Species'], species_mapping_df['Specie_Name'])))\n",
    "\n",
    "    # Number of rows of df\n",
    "    print(\"Number of annotations: \", len(input_df))\n",
    "\n",
    "    # Save the output file\n",
    "    input_df.to_csv(output_file, index=False)\n",
    "\n",
    "# Usage of the map_species function\n",
    "input_file = ROOT_PATH + \"Data/Annotations/audio_annotations.csv\"\n",
    "output_file = ROOT_PATH + \"Data/Annotations/audio_annotations_standarized.csv\"\n",
    "species_mapping_file = ROOT_PATH + \"Data/Annotations/unique_species_mapped.csv\"\n",
    "\n",
    "map_species(input_file, output_file, species_mapping_file)"
   ]
  },
  {
   "cell_type": "code",
   "execution_count": 14,
   "metadata": {},
   "outputs": [],
   "source": [
    "input_file = ROOT_PATH + \"Data/Annotations/audio_annotations_standarized.csv\"\n",
    "output_file = ROOT_PATH + \"Data/Annotations/audio_annotations_standarized.csv\"\n",
    "\n",
    "# Read the input file\n",
    "input_df = pd.read_csv(input_file)\n",
    "\n",
    "# Delete rows with specie \"quiroptera\" (1) and unknown\n",
    "input_df = input_df[input_df['specie'] != \"quiroptera\"]\n",
    "input_df = input_df[input_df['specie'] != \"unknown\"] # Unknown = Bird\n",
    "input_df = input_df[input_df['specie'] != \"abiotic noise\"]\n",
    "input_df = input_df[input_df['specie'] != \"insect\"]\n",
    "\n",
    "# Get the species counts\n",
    "species_counts = input_df['specie'].value_counts()\n",
    "\n",
    "# Get the species with less than X samples\n",
    "X = 10\n",
    "less_than_10 = species_counts[species_counts < X]\n",
    "\n",
    "# Map the species with less than 10 samples to \"bird\"\n",
    "input_df['specie'] = input_df['specie'].apply(lambda x: \"bird\" if x in less_than_10 else x)\n",
    "\n",
    "# unknown is bird\n",
    "# input_df['specie'] = input_df['specie'].apply(lambda x: \"bird\" if x == \"unknown\" else x)\n",
    "\n",
    "# Save the output file\n",
    "input_df.to_csv(output_file, index=False)\n",
    "\n",
    "# Also save the CSV with name dataset.csv\n",
    "output_file = ROOT_PATH + \"Data/Dataset/CSVs/dataset.csv\"\n",
    "input_df.to_csv(output_file, index=False)"
   ]
  },
  {
   "cell_type": "code",
   "execution_count": 15,
   "metadata": {},
   "outputs": [
    {
     "name": "stdout",
     "output_type": "stream",
     "text": [
      "Number of annotations:  1800\n"
     ]
    }
   ],
   "source": [
    "# Number of rows of df\n",
    "print(\"Number of annotations: \", len(input_df))"
   ]
  },
  {
   "cell_type": "code",
   "execution_count": 18,
   "metadata": {},
   "outputs": [],
   "source": [
    "output_file = ROOT_PATH + \"Data/Dataset/CSVs/dataset.csv\""
   ]
  },
  {
   "cell_type": "code",
   "execution_count": 19,
   "metadata": {},
   "outputs": [
    {
     "name": "stdout",
     "output_type": "stream",
     "text": [
      "0: bird\n",
      "1: actitis hypoleucos\n",
      "2: anthus pratensis\n",
      "3: calandrella brachydactyla\n",
      "4: carduelis carduelis\n",
      "5: cettia cetti\n",
      "6: chloris chloris\n",
      "7: ciconia ciconia\n",
      "8: cisticola juncidis\n",
      "9: curruca\n",
      "10: emberiza calandra\n",
      "11: erithacus rubecula\n",
      "12: fringilla\n",
      "13: galerida\n",
      "14: lanius\n",
      "15: luscinia megarhynchos\n",
      "16: merops apiaster\n",
      "17: motacilla\n",
      "18: parus major\n",
      "19: passer\n",
      "20: pica pica\n",
      "21: saxicola rubicola\n",
      "22: serinus serinus\n",
      "23: streptopelia decaocto\n",
      "24: sturnus\n",
      "25: turdus merula\n"
     ]
    }
   ],
   "source": [
    "# Take outputfile and print the unique species ordered alphabetically and preceded by an enumeration starting by 0 and :\n",
    "df = pd.read_csv(output_file)\n",
    "df['specie'] = df['specie'].astype(str)\n",
    "# Sort unique species alphabetically\n",
    "unique_species_sorted = sorted(df['specie'].unique())\n",
    "\n",
    "# eliminate abiotic noise, unknown and nan\n",
    "unique_species_sorted = [x for x in unique_species_sorted if x not in ['abiotic noise', 'nan', 'insect', 'unknown']]\n",
    "\n",
    "# Put Bird the first\n",
    "unique_species_sorted.remove('bird')\n",
    "unique_species_sorted.insert(0, 'bird')\n",
    "\n",
    "for i, specie in enumerate(unique_species_sorted):\n",
    "    print(f\"{i}: {specie}\")"
   ]
  }
 ],
 "metadata": {
  "kernelspec": {
   "display_name": "BIRDeep_TFM_Alba",
   "language": "python",
   "name": "python3"
  },
  "language_info": {
   "codemirror_mode": {
    "name": "ipython",
    "version": 3
   },
   "file_extension": ".py",
   "mimetype": "text/x-python",
   "name": "python",
   "nbconvert_exporter": "python",
   "pygments_lexer": "ipython3",
   "version": "3.11.7"
  }
 },
 "nbformat": 4,
 "nbformat_minor": 2
}
