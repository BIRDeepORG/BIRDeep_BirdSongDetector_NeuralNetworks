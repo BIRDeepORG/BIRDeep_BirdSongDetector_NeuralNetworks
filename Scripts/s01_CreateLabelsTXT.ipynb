{
 "cells": [
  {
   "cell_type": "code",
   "execution_count": 1,
   "metadata": {},
   "outputs": [],
   "source": [
    "import os\n",
    "import pandas as pd\n",
    "import ast"
   ]
  },
  {
   "cell_type": "code",
   "execution_count": 4,
   "metadata": {},
   "outputs": [],
   "source": [
    "# Define the paths to images and labels folders\n",
    "PATH = \"../Data/\" # \"../../../desarrollo/Data/\"\n",
    "\n",
    "images_dir = PATH + 'Dataset/images'\n",
    "labels_dir = PATH + 'Dataset/labels'\n",
    "csv_path = PATH + 'Dataset/CSVs/dataset.csv'"
   ]
  },
  {
   "cell_type": "code",
   "execution_count": 7,
   "metadata": {},
   "outputs": [],
   "source": [
    "# Read the CSV file into a DataFrame\n",
    "df = pd.read_csv(csv_path)"
   ]
  },
  {
   "cell_type": "code",
   "execution_count": 8,
   "metadata": {},
   "outputs": [
    {
     "name": "stdout",
     "output_type": "stream",
     "text": [
      "Done!\n"
     ]
    }
   ],
   "source": [
    "for _, row in df.iterrows():\n",
    "    # Generar la ruta para la carpeta de etiquetas correspondiente a la imagen\n",
    "    label_folder = os.path.join(labels_dir, os.path.dirname(row['path']))\n",
    "    os.makedirs(label_folder, exist_ok=True)  # Crear la carpeta si no existe\n",
    "    \n",
    "    # Generar el nombre del archivo .txt basado en el nombre de la imagen\n",
    "    txt_file_path = os.path.join(labels_dir, row['path'].replace(\".WAV\", \".txt\"))\n",
    "    \n",
    "    # Verificar si el valor en 'bbox' es NaN\n",
    "    if pd.isna(row['bbox']):\n",
    "        bounding_box = []\n",
    "    else:\n",
    "        # Convertir la cadena de la caja delimitadora a una lista de valores\n",
    "        bounding_box = ast.literal_eval(row['bbox'])\n",
    "    \n",
    "    if bounding_box:      \n",
    "        # Si el archivo .txt ya existe, agregar la caja delimitadora como nueva línea, de lo contrario, crear uno nuevo\n",
    "        if os.path.exists(txt_file_path):\n",
    "            with open(txt_file_path, 'a') as txt_file:\n",
    "                txt_file.write(\" \".join(str(item) for item in bounding_box) + '\\n')\n",
    "        else:\n",
    "            with open(txt_file_path, 'w') as txt_file:\n",
    "                txt_file.write(\" \".join(str(item) for item in bounding_box) + '\\n')\n",
    "    else:\n",
    "        # Si el archivo .txt ya existe no hacer nada, de lo contrario, crear un nuevo archivo vacío\n",
    "        if not os.path.exists(txt_file_path):\n",
    "            with open(txt_file_path, 'w') as txt_file:\n",
    "                pass\n",
    "\n",
    "print(\"Done!\")"
   ]
  },
  {
   "cell_type": "code",
   "execution_count": 9,
   "metadata": {},
   "outputs": [
    {
     "name": "stdout",
     "output_type": "stream",
     "text": [
      "Total .txt files in ../Data/Dataset/labels and its subdirectories: 461\n",
      "Unique paths in the dataframe: 461\n"
     ]
    }
   ],
   "source": [
    "def count_txt_files(directory):\n",
    "    txt_file_count = 0\n",
    "    for root, dirs, files in os.walk(directory):\n",
    "        for file in files:\n",
    "            if file.endswith(\".txt\"):\n",
    "                txt_file_count += 1\n",
    "    return txt_file_count\n",
    "\n",
    "# Count txt files in labels_dir\n",
    "total_txt_files = count_txt_files(labels_dir)\n",
    "print(\"Total .txt files in\", labels_dir, \"and its subdirectories:\", total_txt_files)\n",
    "\n",
    "# Count unique paths of the dataframe\n",
    "unique_paths = df['path'].nunique()\n",
    "print(\"Unique paths in the dataframe:\", unique_paths)\n",
    "\n",
    "assert total_txt_files == unique_paths, \"The number of .txt files does not match the number of unique paths in the dataframe\""
   ]
  }
 ],
 "metadata": {
  "kernelspec": {
   "display_name": "otherstuffystuff",
   "language": "python",
   "name": "python3"
  },
  "language_info": {
   "codemirror_mode": {
    "name": "ipython",
    "version": 3
   },
   "file_extension": ".py",
   "mimetype": "text/x-python",
   "name": "python",
   "nbconvert_exporter": "python",
   "pygments_lexer": "ipython3",
   "version": "3.11.9"
  },
  "orig_nbformat": 4
 },
 "nbformat": 4,
 "nbformat_minor": 2
}
