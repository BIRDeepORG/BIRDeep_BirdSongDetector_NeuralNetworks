{
 "cells": [
  {
   "cell_type": "code",
   "execution_count": 1,
   "metadata": {},
   "outputs": [],
   "source": [
    "import pandas as pd\n",
    "\n",
    "# Especies de interés en minúsculas\n",
    "especies_interes = [\n",
    "    'turdus merula', 'erithacus rubecula', 'luscinia megarhynchos',\n",
    "    'pica pica', 'chloris chloris', 'motacilla alba', 'motacilla flava'\n",
    "]\n",
    "\n",
    "# Ruta del archivo con las anotaciones\n",
    "dataset_csv = \"dataset.csv\"\n",
    "\n",
    "# Leer el archivo CSV\n",
    "df = pd.read_csv(dataset_csv)\n",
    "\n",
    "# Filtrar las filas donde la especie está en la lista de interés\n",
    "df_filtrado = df[df['specie'].str.lower().isin(especies_interes)]\n",
    "\n",
    "# Imprimir el resultado\n",
    "# print(df_filtrado)\n",
    "\n",
    "# Guardar el resultado en un nuevo archivo CSV\n",
    "df_filtrado.to_csv('anotaciones_filtradas.csv', index=False)"
   ]
  },
  {
   "cell_type": "code",
   "execution_count": 2,
   "metadata": {},
   "outputs": [],
   "source": [
    "# Guardar sólo path y species\n",
    "df_filtrado[['path', 'specie']].to_csv('anotaciones_filtradas_path_specie.csv', index=False)"
   ]
  }
 ],
 "metadata": {
  "kernelspec": {
   "display_name": "BIRDeep",
   "language": "python",
   "name": "python3"
  },
  "language_info": {
   "codemirror_mode": {
    "name": "ipython",
    "version": 3
   },
   "file_extension": ".py",
   "mimetype": "text/x-python",
   "name": "python",
   "nbconvert_exporter": "python",
   "pygments_lexer": "ipython3",
   "version": "3.11.7"
  }
 },
 "nbformat": 4,
 "nbformat_minor": 2
}
