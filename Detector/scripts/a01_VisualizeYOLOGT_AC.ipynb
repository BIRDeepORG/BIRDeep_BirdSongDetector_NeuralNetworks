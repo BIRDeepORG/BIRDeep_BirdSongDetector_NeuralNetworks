{
 "cells": [
  {
   "cell_type": "code",
   "execution_count": 2,
   "metadata": {},
   "outputs": [],
   "source": [
    "import json\n",
    "import random\n",
    "import matplotlib.pyplot as plt\n",
    "import matplotlib.patches as patches"
   ]
  },
  {
   "cell_type": "code",
   "execution_count": 3,
   "metadata": {},
   "outputs": [],
   "source": [
    "PATH = \"../../\""
   ]
  },
  {
   "cell_type": "code",
   "execution_count": 4,
   "metadata": {},
   "outputs": [],
   "source": [
    "categories = [\n",
    "    {\"id\": 0, \"name\": \"Bird\"},\n",
    "    {\"id\": 1, \"name\": \"Alaudidae\"},\n",
    "    {\"id\": 2, \"name\": \"Anthus pratensis\"},\n",
    "    {\"id\": 4, \"name\": \"Calandrella brachydactyla\"},\n",
    "    {\"id\": 5, \"name\": \"Carduelis carduelis\"},\n",
    "    {\"id\": 6, \"name\": \"Cettia cetti\"},\n",
    "    {\"id\": 7, \"name\": \"Chloris chloris\"},\n",
    "    {\"id\": 8, \"name\": \"Ciconia ciconia\"},\n",
    "    {\"id\": 9, \"name\": \"Cisticola juncidis\"},\n",
    "    {\"id\": 10, \"name\": \"Curruca\"},\n",
    "    {\"id\": 11, \"name\": \"Curruca melanocephala\"},\n",
    "    {\"id\": 12, \"name\": \"Curruca undata\"},\n",
    "    {\"id\": 13, \"name\": \"Cyanopica cooki\"},\n",
    "    {\"id\": 14, \"name\": \"Emberiza calandra\"},\n",
    "    {\"id\": 16, \"name\": \"Falco tinnunculus\"},\n",
    "    {\"id\": 17, \"name\": \"Fringilla\"},\n",
    "    {\"id\": 18, \"name\": \"Galerida Cristata\"},\n",
    "    {\"id\": 19, \"name\": \"Galerida theklae\"},\n",
    "    {\"id\": 20, \"name\": \"Hippolais polyglotta\"},\n",
    "    {\"id\": 21, \"name\": \"Lanius\"},\n",
    "    {\"id\": 22, \"name\": \"Linaria Cannabina\"},\n",
    "    {\"id\": 23, \"name\": \"Luscinia megarhynchos\"},\n",
    "    {\"id\": 24, \"name\": \"Melanocorypha calandra\"},\n",
    "    {\"id\": 25, \"name\": \"Merops apiaster\"},\n",
    "    {\"id\": 26, \"name\": \"Milvus migrans\"},\n",
    "    {\"id\": 27, \"name\": \"Motacilla flava\"},\n",
    "    {\"id\": 28, \"name\": \"Parus major\"},\n",
    "    {\"id\": 29, \"name\": \"Passer\"},\n",
    "    {\"id\": 30, \"name\": \"Pica pica\"},\n",
    "    {\"id\": 31, \"name\": \"Saxicola rubicola\"},\n",
    "    {\"id\": 32, \"name\": \"Serinus serinus\"},\n",
    "    {\"id\": 33, \"name\": \"Streptopelia decaocto\"},\n",
    "    {\"id\": 34, \"name\": \"Sturnus\"},\n",
    "    {\"id\": 35, \"name\": \"Sturnus unicolor\"},\n",
    "    {\"id\": 36, \"name\": \"Sylvia\"},\n",
    "    {\"id\": 37, \"name\": \"Turdus merula\"},\n",
    "    {\"id\": 38, \"name\": \"Upupa epops\"}\n",
    "]"
   ]
  },
  {
   "cell_type": "code",
   "execution_count": 5,
   "metadata": {},
   "outputs": [],
   "source": [
    "def denormalize_bbox(bbox, image_width, image_height):\n",
    "    x_center, y_center, width, height = bbox\n",
    "    x_min = int((x_center - width / 2) * image_width)\n",
    "    y_min = int((y_center - height / 2) * image_height)\n",
    "    x_max = int((x_center + width / 2) * image_width)\n",
    "    y_max = int((y_center + height / 2) * image_height)\n",
    "    return x_min, y_min, x_max, y_max"
   ]
  },
  {
   "cell_type": "code",
   "execution_count": null,
   "metadata": {},
   "outputs": [],
   "source": [
    "# Cargar el archivo JSON de predicciones\n",
    "with open(PATH + 'runs/detect/val4/predictions.json', 'r') as json_file:\n",
    "    predictions = json.load(json_file)\n",
    "\n",
    "# Cargar el archivo de rutas de imágenes\n",
    "with open(PATH + 'Dataset/test.txt', 'r') as txt_file:\n",
    "    image_paths = txt_file.readlines()\n",
    "    image_paths = [path.strip() for path in image_paths]"
   ]
  }
 ],
 "metadata": {
  "kernelspec": {
   "display_name": "BIRDeep",
   "language": "python",
   "name": "python3"
  },
  "language_info": {
   "codemirror_mode": {
    "name": "ipython",
    "version": 3
   },
   "file_extension": ".py",
   "mimetype": "text/x-python",
   "name": "python",
   "nbconvert_exporter": "python",
   "pygments_lexer": "ipython3",
   "version": "3.11.7"
  }
 },
 "nbformat": 4,
 "nbformat_minor": 2
}
