{
 "cells": [
  {
   "cell_type": "markdown",
   "metadata": {},
   "source": [
    "# Check scores"
   ]
  },
  {
   "cell_type": "markdown",
   "metadata": {},
   "source": [
    "### Setup"
   ]
  },
  {
   "cell_type": "markdown",
   "metadata": {},
   "source": [
    "#### Libraries"
   ]
  },
  {
   "cell_type": "code",
   "execution_count": 1,
   "metadata": {},
   "outputs": [],
   "source": [
    "import json\n",
    "import pandas as pd"
   ]
  },
  {
   "cell_type": "markdown",
   "metadata": {},
   "source": [
    "#### Constants"
   ]
  },
  {
   "cell_type": "code",
   "execution_count": 7,
   "metadata": {},
   "outputs": [],
   "source": [
    "# Read JSON content from the file\n",
    "predictions_file_path = \"../runs/detect/val7/predictions.json\"\n",
    "\n",
    "with open(predictions_file_path, 'r') as f:\n",
    "    predictions_file_content = f.read()\n",
    "\n",
    "# Sample JSON content in the predictions_file variable\n",
    "'''\n",
    "[\n",
    "    {\"image_id\": \"40_20201024 (1)\", \"category_id\": 9, \"bbox\": [867.187, 2.109, 478.125, 907.266], \"score\": 0.95459},\n",
    "    {\"image_id\": \"40_20201024 (1)\", \"category_id\": 9, \"bbox\": [2103.75, 2.812, 296.25, 1096.875], \"score\": 0.93457},\n",
    "    {\"image_id\": \"40_20201024 (1)\", \"category_id\": 2, \"bbox\": [2340.0, 390.937, 60.0, 532.5], \"score\": 0.00797},\n",
    "    {\"image_id\": \"40_20201024 (1)\", \"category_id\": 2, \"bbox\": [2317.5, 456.562, 82.5, 423.75], \"score\": 0.00455},\n",
    "    {\"image_id\": \"40_20201024 (1)\", \"category_id\": 2, \"bbox\": [2231.25, 492.187, 168.75, 384.375], \"score\": 0.002},\n",
    "    {\"image_id\": \"40_20201024 (1)\", \"category_id\": 2, \"bbox\": [2351.25, 290.625, 48.75, 658.125], \"score\": 0.00172}\n",
    "]\n",
    "'''\n",
    "\n",
    "# Load JSON content\n",
    "predictions = json.loads(predictions_file_content)"
   ]
  },
  {
   "cell_type": "markdown",
   "metadata": {},
   "source": [
    "#### Init Variables"
   ]
  },
  {
   "cell_type": "markdown",
   "metadata": {},
   "source": [
    "## Check highest score for each class"
   ]
  },
  {
   "cell_type": "code",
   "execution_count": 16,
   "metadata": {},
   "outputs": [
    {
     "name": "stdout",
     "output_type": "stream",
     "text": [
      "Image ID: AM1_20230510_083000, Category ID: 0, Score: 1.00000\n",
      "Image ID: AM1_20230510_083000, Category ID: 0, Score: 1.00000\n",
      "Image ID: AM1_20230510_083000, Category ID: 0, Score: 1.00000\n",
      "Image ID: AM1_20230510_083000, Category ID: 0, Score: 1.00000\n",
      "Image ID: AM1_20230510_083000, Category ID: 0, Score: 1.00000\n",
      "Image ID: AM1_20230510_083000, Category ID: 0, Score: 1.00000\n",
      "Image ID: AM1_20230510_083000, Category ID: 0, Score: 1.00000\n",
      "Image ID: AM1_20230510_083000, Category ID: 0, Score: 1.00000\n",
      "Image ID: AM1_20230510_083000, Category ID: 0, Score: 1.00000\n",
      "Image ID: AM15_20230329_070000, Category ID: 0, Score: 1.00000\n"
     ]
    }
   ],
   "source": [
    "# Iterate through predictions to find the highest score for category_id = 2\n",
    "for category_id in range(0,1):\n",
    "    # Print best 10 entries for category_id\n",
    "    entries = []\n",
    "    for entry in predictions:\n",
    "        if entry[\"category_id\"] == category_id:\n",
    "            entries.append(entry)\n",
    "\n",
    "    entries.sort(key=lambda x: x[\"score\"], reverse=True)\n",
    "\n",
    "    for entry in entries[:10]:\n",
    "        image_id = entry[\"image_id\"]\n",
    "        category_id = entry[\"category_id\"]\n",
    "        score = entry[\"score\"]\n",
    "        print(f\"Image ID: {image_id}, Category ID: {category_id}, Score: {score:.5f}\")"
   ]
  },
  {
   "cell_type": "markdown",
   "metadata": {},
   "source": [
    "## Check lowest score for each class"
   ]
  },
  {
   "cell_type": "code",
   "execution_count": 13,
   "metadata": {},
   "outputs": [
    {
     "name": "stdout",
     "output_type": "stream",
     "text": [
      "Image ID: AM4_20230531_062000, Category ID: 0, Score: 0.40125\n",
      "Image ID: AM11_20230304_060000, Category ID: 0, Score: 0.41006\n",
      "Image ID: AM4_20230531_065000, Category ID: 0, Score: 0.41176\n",
      "Image ID: AM11_20230303_183000, Category ID: 0, Score: 0.41725\n",
      "Image ID: AM1_20230511_080000, Category ID: 0, Score: 0.41824\n",
      "Image ID: AM4_20230531_083000, Category ID: 0, Score: 0.42911\n",
      "Image ID: AM11_20230304_070000, Category ID: 0, Score: 0.43867\n",
      "Image ID: AM11_20230304_083000, Category ID: 0, Score: 0.44482\n",
      "Image ID: AM1_20230510_083000, Category ID: 0, Score: 0.44718\n",
      "Image ID: AM11_20230303_180000, Category ID: 0, Score: 0.45891\n"
     ]
    }
   ],
   "source": [
    "# Iterate through predictions to find the highest score for category_id = 2\n",
    "for category_id in range(0,1):\n",
    "    # Print worst 10 entries for category_id\n",
    "    entries = []\n",
    "    for entry in predictions:\n",
    "        if entry[\"category_id\"] == category_id:\n",
    "            entries.append(entry)\n",
    "    entries.sort(key=lambda x: x[\"score\"])\n",
    "\n",
    "    for entry in entries[:10]:\n",
    "        image_id = entry[\"image_id\"]\n",
    "        category_id = entry[\"category_id\"]\n",
    "        score = entry[\"score\"]\n",
    "        print(f\"Image ID: {image_id}, Category ID: {category_id}, Score: {score:.5f}\")"
   ]
  }
 ],
 "metadata": {
  "kernelspec": {
   "display_name": "cv4ecology",
   "language": "python",
   "name": "python3"
  },
  "language_info": {
   "codemirror_mode": {
    "name": "ipython",
    "version": 3
   },
   "file_extension": ".py",
   "mimetype": "text/x-python",
   "name": "python",
   "nbconvert_exporter": "python",
   "pygments_lexer": "ipython3",
   "version": "3.11.7"
  },
  "orig_nbformat": 4
 },
 "nbformat": 4,
 "nbformat_minor": 2
}
